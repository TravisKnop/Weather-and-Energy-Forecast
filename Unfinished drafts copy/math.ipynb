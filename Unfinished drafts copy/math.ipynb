{
 "cells": [
  {
   "cell_type": "code",
   "execution_count": 1,
   "metadata": {
    "collapsed": false
   },
   "outputs": [],
   "source": [
    "import pandas as pd\n",
    "import numpy as np\n",
    "import matplotlib.pyplot as plt\n",
    "import seaborn\n",
    "%matplotlib inline"
   ]
  },
  {
   "cell_type": "markdown",
   "metadata": {},
   "source": [
    "## Importing and Cleaning Data"
   ]
  },
  {
   "cell_type": "code",
   "execution_count": null,
   "metadata": {
    "collapsed": false
   },
   "outputs": [],
   "source": [
    "hourly10 = pd.read_csv(r\"~/travis_python/FINAL/2010_hourly_flows.csv\", header=3)\n",
    "hourly11 = pd.read_csv(r\"~/travis_python/FINAL/2011_hourly_flows.csv\", header=3)\n",
    "hourly12 = pd.read_csv(r\"~/travis_python/FINAL/2012_hourly_flows.csv\", header=3)\n",
    "hourly13 = pd.read_csv(r\"~/travis_python/FINAL/2013_hourly_flows.csv\", header=3)\n",
    "hourly14 = pd.read_csv(r\"~/travis_python/FINAL/2014_hourly_flows.csv\", header=3)\n",
    "source14 = pd.read_csv(r\"~/travis_python/FINAL/2014_energy_peak_source.csv\")"
   ]
  },
  {
   "cell_type": "code",
   "execution_count": null,
   "metadata": {
    "collapsed": false,
    "scrolled": true
   },
   "outputs": [],
   "source": [
    "source14 = source14.T.dropna(how=\"all\")"
   ]
  },
  {
   "cell_type": "code",
   "execution_count": null,
   "metadata": {
    "collapsed": false
   },
   "outputs": [],
   "source": [
    "hourly13 = hourly13.replace({'\\t': \"\"}, regex=True)\n",
    "hourly12 = hourly12.replace({'\\t': \"\"}, regex=True)\n",
    "hourly11 = hourly11.replace({'\\t': \"\"}, regex=True)\n",
    "hourly10 = hourly10.replace({'\\t': \"\"}, regex=True)"
   ]
  },
  {
   "cell_type": "markdown",
   "metadata": {},
   "source": [
    "## First Weather Data"
   ]
  },
  {
   "cell_type": "code",
   "execution_count": 18,
   "metadata": {
    "collapsed": false
   },
   "outputs": [],
   "source": [
    "weather20140101 = pd.read_json(\"http://api.wunderground.com/api/5921b263421e9b22/history_20140101/q/MA/Boston.json\")\n",
    "weather20140102 = pd.read_json(\"http://api.wunderground.com/api/5921b263421e9b22/history_20140102/q/MA/Boston.json\")\n",
    "weather20140103 = pd.read_json(\"http://api.wunderground.com/api/5921b263421e9b22/history_20140103/q/MA/Boston.json\")\n",
    "weather20140104 = pd.read_json(\"http://api.wunderground.com/api/5921b263421e9b22/history_20140104/q/MA/Boston.json\")\n",
    "weather20140105 = pd.read_json(\"http://api.wunderground.com/api/5921b263421e9b22/history_20140105/q/MA/Boston.json\")\n",
    "weather20140106 = pd.read_json(\"http://api.wunderground.com/api/5921b263421e9b22/history_20140106/q/MA/Boston.json\")\n",
    "weather20140107 = pd.read_json(\"http://api.wunderground.com/api/5921b263421e9b22/history_20140107/q/MA/Boston.json\")\n",
    "weather20140108 = pd.read_json(\"http://api.wunderground.com/api/5921b263421e9b22/history_20140108/q/MA/Boston.json\")\n",
    "weather20140109 = pd.read_json(\"http://api.wunderground.com/api/5921b263421e9b22/history_20140109/q/MA/Boston.json\")\n",
    "weather20140110 = pd.read_json(\"http://api.wunderground.com/api/5921b263421e9b22/history_20140110/q/MA/Boston.json\")\n",
    "weather20140111 = pd.read_json(\"http://api.wunderground.com/api/5921b263421e9b22/history_20140111/q/MA/Boston.json\")\n",
    "weather20140112 = pd.read_json(\"http://api.wunderground.com/api/5921b263421e9b22/history_20140112/q/MA/Boston.json\")"
   ]
  },
  {
   "cell_type": "markdown",
   "metadata": {},
   "source": [
    "### Daily Weather Summary"
   ]
  },
  {
   "cell_type": "code",
   "execution_count": 3,
   "metadata": {
    "collapsed": false
   },
   "outputs": [],
   "source": [
    "daily_weather = pd.DataFrame(list(weather20130109.history[0]))\n"
   ]
  },
  {
   "cell_type": "code",
   "execution_count": 4,
   "metadata": {
    "collapsed": true
   },
   "outputs": [],
   "source": [
    "def get_date_value(series):\n",
    "    datetime = []\n",
    "    for cell in series:\n",
    "        value = cell.get(\"pretty\")\n",
    "        datetime.append(value)\n",
    "    return datetime\n",
    "\n",
    "datetime = get_date_value(daily_weather.date)\n",
    "daily_weather[\"datetime\"] = datetime\n",
    "daily_weather = daily_weather.drop(\"date\", axis=1)"
   ]
  },
  {
   "cell_type": "code",
   "execution_count": 5,
   "metadata": {
    "collapsed": false
   },
   "outputs": [
    {
     "data": {
      "text/html": [
       "<div>\n",
       "<table border=\"1\" class=\"dataframe\">\n",
       "  <thead>\n",
       "    <tr style=\"text-align: right;\">\n",
       "      <th></th>\n",
       "      <th>coolingdegreedays</th>\n",
       "      <th>coolingdegreedaysnormal</th>\n",
       "      <th>fog</th>\n",
       "      <th>gdegreedays</th>\n",
       "      <th>hail</th>\n",
       "      <th>heatingdegreedays</th>\n",
       "      <th>heatingdegreedaysnormal</th>\n",
       "      <th>humidity</th>\n",
       "      <th>maxdewpti</th>\n",
       "      <th>maxdewptm</th>\n",
       "      <th>...</th>\n",
       "      <th>since1sepheatingdegreedays</th>\n",
       "      <th>since1sepheatingdegreedaysnormal</th>\n",
       "      <th>snow</th>\n",
       "      <th>snowdepthi</th>\n",
       "      <th>snowdepthm</th>\n",
       "      <th>snowfalli</th>\n",
       "      <th>snowfallm</th>\n",
       "      <th>thunder</th>\n",
       "      <th>tornado</th>\n",
       "      <th>datetime</th>\n",
       "    </tr>\n",
       "  </thead>\n",
       "  <tbody>\n",
       "    <tr>\n",
       "      <th>0</th>\n",
       "      <td>0</td>\n",
       "      <td>0</td>\n",
       "      <td>0</td>\n",
       "      <td>0</td>\n",
       "      <td>0</td>\n",
       "      <td>28</td>\n",
       "      <td>36</td>\n",
       "      <td></td>\n",
       "      <td>34</td>\n",
       "      <td>1</td>\n",
       "      <td>...</td>\n",
       "      <td></td>\n",
       "      <td></td>\n",
       "      <td>0</td>\n",
       "      <td></td>\n",
       "      <td></td>\n",
       "      <td>0.00</td>\n",
       "      <td>0.00</td>\n",
       "      <td>0</td>\n",
       "      <td>0</td>\n",
       "      <td>12:00 PM EST on January 09, 2013</td>\n",
       "    </tr>\n",
       "  </tbody>\n",
       "</table>\n",
       "<p>1 rows × 70 columns</p>\n",
       "</div>"
      ],
      "text/plain": [
       "  coolingdegreedays coolingdegreedaysnormal fog gdegreedays hail  \\\n",
       "0                 0                       0   0           0    0   \n",
       "\n",
       "  heatingdegreedays heatingdegreedaysnormal humidity maxdewpti maxdewptm  \\\n",
       "0                28                      36                 34         1   \n",
       "\n",
       "                 ...                since1sepheatingdegreedays  \\\n",
       "0                ...                                             \n",
       "\n",
       "  since1sepheatingdegreedaysnormal snow snowdepthi snowdepthm snowfalli  \\\n",
       "0                                     0                            0.00   \n",
       "\n",
       "  snowfallm thunder tornado                          datetime  \n",
       "0      0.00       0       0  12:00 PM EST on January 09, 2013  \n",
       "\n",
       "[1 rows x 70 columns]"
      ]
     },
     "execution_count": 5,
     "metadata": {},
     "output_type": "execute_result"
    }
   ],
   "source": [
    "daily_weather.head()"
   ]
  },
  {
   "cell_type": "code",
   "execution_count": 6,
   "metadata": {
    "collapsed": false
   },
   "outputs": [],
   "source": [
    "metric = [c for c in daily_weather.columns if c[-1] != \"i\"]\n",
    "daily_weather = daily_weather[metric]"
   ]
  },
  {
   "cell_type": "code",
   "execution_count": 7,
   "metadata": {
    "collapsed": true
   },
   "outputs": [],
   "source": [
    "kill_month = [c for c in daily_weather.columns if c[:5] != \"month\"]\n",
    "daily_weather = daily_weather[kill_month]"
   ]
  },
  {
   "cell_type": "code",
   "execution_count": 8,
   "metadata": {
    "collapsed": true
   },
   "outputs": [],
   "source": [
    "kill_since = [c for c in daily_weather.columns if c[:5] != \"since\"]\n",
    "daily_weather = daily_weather[kill_since]"
   ]
  },
  {
   "cell_type": "code",
   "execution_count": 9,
   "metadata": {
    "collapsed": false
   },
   "outputs": [
    {
     "data": {
      "text/plain": [
       "array(['coolingdegreedays', 'coolingdegreedaysnormal', 'fog',\n",
       "       'gdegreedays', 'hail', 'heatingdegreedays',\n",
       "       'heatingdegreedaysnormal', 'humidity', 'maxdewptm', 'maxhumidity',\n",
       "       'maxpressurem', 'maxtempm', 'maxvism', 'maxwspdm', 'meandewptm',\n",
       "       'meanpressurem', 'meantempm', 'meanvism', 'meanwdird', 'meanwdire',\n",
       "       'meanwindspdm', 'mindewptm', 'minhumidity', 'minpressurem',\n",
       "       'mintempm', 'minvism', 'minwspdm', 'precipm', 'precipsource',\n",
       "       'rain', 'snow', 'snowdepthm', 'snowfallm', 'thunder', 'tornado'], dtype=object)"
      ]
     },
     "execution_count": 9,
     "metadata": {},
     "output_type": "execute_result"
    }
   ],
   "source": [
    "daily_weather.set_index('datetime', inplace=True)\n",
    "daily_weather.columns.values"
   ]
  },
  {
   "cell_type": "code",
   "execution_count": 11,
   "metadata": {
    "collapsed": false
   },
   "outputs": [],
   "source": [
    "daily_weather = daily_weather.drop(\"tornado\", axis=1)\n",
    "daily_weather = daily_weather.drop(\"gdegreedays\", axis=1)\n",
    "daily_weather = daily_weather.drop(\"minvism\", axis=1)\n",
    "daily_weather = daily_weather.drop(\"meanvism\", axis=1)\n",
    "daily_weather = daily_weather.drop(\"maxvism\", axis=1)\n",
    "daily_weather = daily_weather.drop(\"mindewptm\", axis=1)\n",
    "daily_weather = daily_weather.drop(\"maxdewptm\", axis=1)\n",
    "daily_weather = daily_weather.drop(\"meanwdire\", axis=1)\n",
    "daily_weather = daily_weather.drop(\"minpressurem\", axis=1)\n",
    "daily_weather = daily_weather.drop(\"maxpressurem\", axis=1)\n",
    "daily_weather = daily_weather.drop(\"minhumidity\", axis=1)\n",
    "daily_weather = daily_weather.drop(\"maxhumidity\", axis=1)\n",
    "daily_weather = daily_weather.drop(\"thunder\", axis=1)\n",
    "daily_weather = daily_weather.drop(\"minwspdm\", axis=1)\n",
    "daily_weather = daily_weather.drop(\"maxwspdm\", axis=1)\n"
   ]
  },
  {
   "cell_type": "code",
   "execution_count": 12,
   "metadata": {
    "collapsed": false
   },
   "outputs": [
    {
     "data": {
      "text/html": [
       "<div>\n",
       "<table border=\"1\" class=\"dataframe\">\n",
       "  <thead>\n",
       "    <tr style=\"text-align: right;\">\n",
       "      <th></th>\n",
       "      <th>coolingdegreedays</th>\n",
       "      <th>coolingdegreedaysnormal</th>\n",
       "      <th>fog</th>\n",
       "      <th>hail</th>\n",
       "      <th>heatingdegreedays</th>\n",
       "      <th>heatingdegreedaysnormal</th>\n",
       "      <th>humidity</th>\n",
       "      <th>maxtempm</th>\n",
       "      <th>meandewptm</th>\n",
       "      <th>meanpressurem</th>\n",
       "      <th>meantempm</th>\n",
       "      <th>meanwdird</th>\n",
       "      <th>meanwindspdm</th>\n",
       "      <th>mintempm</th>\n",
       "      <th>precipm</th>\n",
       "      <th>precipsource</th>\n",
       "      <th>rain</th>\n",
       "      <th>snow</th>\n",
       "      <th>snowdepthm</th>\n",
       "      <th>snowfallm</th>\n",
       "    </tr>\n",
       "    <tr>\n",
       "      <th>datetime</th>\n",
       "      <th></th>\n",
       "      <th></th>\n",
       "      <th></th>\n",
       "      <th></th>\n",
       "      <th></th>\n",
       "      <th></th>\n",
       "      <th></th>\n",
       "      <th></th>\n",
       "      <th></th>\n",
       "      <th></th>\n",
       "      <th></th>\n",
       "      <th></th>\n",
       "      <th></th>\n",
       "      <th></th>\n",
       "      <th></th>\n",
       "      <th></th>\n",
       "      <th></th>\n",
       "      <th></th>\n",
       "      <th></th>\n",
       "      <th></th>\n",
       "    </tr>\n",
       "  </thead>\n",
       "  <tbody>\n",
       "    <tr>\n",
       "      <th>12:00 PM EST on January 09, 2013</th>\n",
       "      <td>0</td>\n",
       "      <td>0</td>\n",
       "      <td>0</td>\n",
       "      <td>0</td>\n",
       "      <td>28</td>\n",
       "      <td>36</td>\n",
       "      <td></td>\n",
       "      <td>8</td>\n",
       "      <td>-2</td>\n",
       "      <td>1023</td>\n",
       "      <td>3</td>\n",
       "      <td>235</td>\n",
       "      <td>13</td>\n",
       "      <td>-2</td>\n",
       "      <td>T</td>\n",
       "      <td></td>\n",
       "      <td>1</td>\n",
       "      <td>0</td>\n",
       "      <td></td>\n",
       "      <td>0.00</td>\n",
       "    </tr>\n",
       "  </tbody>\n",
       "</table>\n",
       "</div>"
      ],
      "text/plain": [
       "                                 coolingdegreedays coolingdegreedaysnormal  \\\n",
       "datetime                                                                     \n",
       "12:00 PM EST on January 09, 2013                 0                       0   \n",
       "\n",
       "                                 fog hail heatingdegreedays  \\\n",
       "datetime                                                      \n",
       "12:00 PM EST on January 09, 2013   0    0                28   \n",
       "\n",
       "                                 heatingdegreedaysnormal humidity maxtempm  \\\n",
       "datetime                                                                     \n",
       "12:00 PM EST on January 09, 2013                      36                 8   \n",
       "\n",
       "                                 meandewptm meanpressurem meantempm meanwdird  \\\n",
       "datetime                                                                        \n",
       "12:00 PM EST on January 09, 2013         -2          1023         3       235   \n",
       "\n",
       "                                 meanwindspdm mintempm precipm precipsource  \\\n",
       "datetime                                                                      \n",
       "12:00 PM EST on January 09, 2013           13       -2       T                \n",
       "\n",
       "                                 rain snow snowdepthm snowfallm  \n",
       "datetime                                                         \n",
       "12:00 PM EST on January 09, 2013    1    0                 0.00  "
      ]
     },
     "execution_count": 12,
     "metadata": {},
     "output_type": "execute_result"
    }
   ],
   "source": [
    "daily_weather.head()"
   ]
  },
  {
   "cell_type": "code",
   "execution_count": 15,
   "metadata": {
    "collapsed": false
   },
   "outputs": [],
   "source": [
    "daily_weather[\"coolingdegreedays\"] = daily_weather[\"coolingdegreedays\"].convert_objects(convert_numeric=True)\n",
    "daily_weather[\"heatingdegreedays\"] = daily_weather[\"heatingdegreedays\"].convert_objects(convert_numeric=True)\n",
    "daily_weather[\"coolingdegreedaysnormal\"] = daily_weather[\"coolingdegreedaysnormal\"].convert_objects(convert_numeric=True)\n",
    "daily_weather[\"heatingdegreedaysnormal\"] = daily_weather[\"heatingdegreedaysnormal\"].convert_objects(convert_numeric=True)\n",
    "daily_weather[\"meandewptm\"] = daily_weather[\"meandewptm\"].convert_objects(convert_numeric=True)\n",
    "daily_weather[\"humidity\"] = daily_weather[\"humidity\"].convert_objects(convert_numeric=True)\n",
    "daily_weather[\"mintempm\"] = daily_weather[\"mintempm\"].convert_objects(convert_numeric=True)\n",
    "daily_weather[\"meantempm\"] = daily_weather[\"meantempm\"].convert_objects(convert_numeric=True)\n",
    "daily_weather[\"maxtempm\"] = daily_weather[\"maxtempm\"].convert_objects(convert_numeric=True)\n",
    "daily_weather[\"precipm\"] = daily_weather[\"precipm\"].convert_objects(convert_numeric=True)\n",
    "daily_weather[\"meanwindspdm\"] = daily_weather[\"meanwindspdm\"].convert_objects(convert_numeric=True)\n",
    "daily_weather[\"meanpressurem\"] = daily_weather[\"meanpressurem\"].convert_objects(convert_numeric=True)\n",
    "daily_weather[\"fog\"] = daily_weather[\"fog\"].convert_objects(convert_numeric=True)\n",
    "daily_weather[\"hail\"] = daily_weather[\"hail\"].convert_objects(convert_numeric=True)\n",
    "daily_weather[\"precipsource\"] = daily_weather[\"precipsource\"].convert_objects(convert_numeric=True)\n",
    "daily_weather[\"rain\"] = daily_weather[\"rain\"].convert_objects(convert_numeric=True)\n",
    "daily_weather[\"snow\"] = daily_weather[\"snow\"].convert_objects(convert_numeric=True)\n",
    "daily_weather[\"snowdepthm\"] = daily_weather[\"snowdepthm\"].convert_objects(convert_numeric=True)\n",
    "daily_weather[\"snowfallm\"] = daily_weather[\"snowfallm\"].convert_objects(convert_numeric=True)"
   ]
  },
  {
   "cell_type": "code",
   "execution_count": 17,
   "metadata": {
    "collapsed": false
   },
   "outputs": [],
   "source": [
    "daily_weather.to_csv(\"weather20130109.csv\")"
   ]
  },
  {
   "cell_type": "markdown",
   "metadata": {},
   "source": [
    "### Hourly Weather Data"
   ]
  },
  {
   "cell_type": "code",
   "execution_count": null,
   "metadata": {
    "collapsed": false
   },
   "outputs": [],
   "source": [
    "hourly_weather = pd.DataFrame(list(weather20130109.history[3]))"
   ]
  },
  {
   "cell_type": "code",
   "execution_count": null,
   "metadata": {
    "collapsed": false
   },
   "outputs": [],
   "source": [
    "hourly_weather.head()"
   ]
  },
  {
   "cell_type": "code",
   "execution_count": null,
   "metadata": {
    "collapsed": false
   },
   "outputs": [],
   "source": [
    "hourly_weather.date[1]"
   ]
  },
  {
   "cell_type": "code",
   "execution_count": null,
   "metadata": {
    "collapsed": false
   },
   "outputs": [],
   "source": [
    "def get_date_value(series):\n",
    "    datetime = []\n",
    "    for cell in series:\n",
    "        value = cell.get(\"pretty\")\n",
    "        datetime.append(value)\n",
    "    return datetime\n",
    "\n",
    "datetime = get_date_value(hourly_weather.date)\n",
    "hourly_weather[\"datetime\"] = datetime"
   ]
  },
  {
   "cell_type": "code",
   "execution_count": null,
   "metadata": {
    "collapsed": false
   },
   "outputs": [],
   "source": [
    "hourly_weather = hourly_weather.drop(\"date\", axis=1)"
   ]
  },
  {
   "cell_type": "code",
   "execution_count": null,
   "metadata": {
    "collapsed": false
   },
   "outputs": [],
   "source": [
    "metric = [c for c in hourly_weather.columns if c[-1] != \"i\"]\n",
    "hourly_weather = hourly_weather[metric]"
   ]
  },
  {
   "cell_type": "code",
   "execution_count": null,
   "metadata": {
    "collapsed": false,
    "scrolled": true
   },
   "outputs": [],
   "source": [
    "hourly_weather.set_index('datetime', inplace=True)\n",
    "hourly_weather.head()"
   ]
  },
  {
   "cell_type": "code",
   "execution_count": null,
   "metadata": {
    "collapsed": false
   },
   "outputs": [],
   "source": [
    "hourly_weather.head()"
   ]
  },
  {
   "cell_type": "code",
   "execution_count": null,
   "metadata": {
    "collapsed": false
   },
   "outputs": [],
   "source": [
    "hourly_weather = hourly_weather.drop(\"utcdate\", axis=1)\n",
    "hourly_weather = hourly_weather.drop(\"wdire\", axis=1)\n",
    "hourly_weather[\"dewptm\"] = hourly_weather[\"dewptm\"].convert_objects(convert_numeric=True)\n",
    "hourly_weather[\"heatindexm\"] = hourly_weather[\"heatindexm\"].convert_objects(convert_numeric=True)\n",
    "hourly_weather[\"hum\"] = hourly_weather[\"hum\"].convert_objects(convert_numeric=True)\n",
    "hourly_weather[\"precipm\"] = hourly_weather[\"precipm\"].convert_objects(convert_numeric=True)\n",
    "hourly_weather[\"pressurem\"] = hourly_weather[\"pressurem\"].convert_objects(convert_numeric=True)\n",
    "hourly_weather[\"tempm\"] = hourly_weather[\"tempm\"].convert_objects(convert_numeric=True)\n",
    "hourly_weather[\"vism\"] = hourly_weather[\"vism\"].convert_objects(convert_numeric=True)\n",
    "hourly_weather[\"wdird\"] = hourly_weather[\"wdird\"].convert_objects(convert_numeric=True)\n",
    "hourly_weather[\"wgustm\"] = hourly_weather[\"wgustm\"].convert_objects(convert_numeric=True)\n",
    "hourly_weather[\"windchillm\"] = hourly_weather[\"windchillm\"].convert_objects(convert_numeric=True)\n",
    "hourly_weather[\"wspdm\"] = hourly_weather[\"wspdm\"].convert_objects(convert_numeric=True)"
   ]
  },
  {
   "cell_type": "code",
   "execution_count": null,
   "metadata": {
    "collapsed": false
   },
   "outputs": [],
   "source": [
    "hourly_weather.columns.values"
   ]
  },
  {
   "cell_type": "code",
   "execution_count": null,
   "metadata": {
    "collapsed": true
   },
   "outputs": [],
   "source": []
  }
 ],
 "metadata": {
  "kernelspec": {
   "display_name": "Python 3",
   "language": "python",
   "name": "python3"
  },
  "language_info": {
   "codemirror_mode": {
    "name": "ipython",
    "version": 3
   },
   "file_extension": ".py",
   "mimetype": "text/x-python",
   "name": "python",
   "nbconvert_exporter": "python",
   "pygments_lexer": "ipython3",
   "version": "3.5.0"
  }
 },
 "nbformat": 4,
 "nbformat_minor": 0
}
