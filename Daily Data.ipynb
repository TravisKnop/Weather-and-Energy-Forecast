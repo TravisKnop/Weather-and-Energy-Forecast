{
 "cells": [
  {
   "cell_type": "markdown",
   "metadata": {},
   "source": [
    "# Background and notes:\n",
    "\"Electricity demand patterns matter for valuing electricity supply resources\" http://www.eia.gov/todayinenergy/detail.cfm?id=12711\n",
    "\"Case study of daily electricity demand in New England\" (shows hourly curve): http://www.eia.gov/todayinenergy/detail.cfm?id=830\n",
    "hourly_jan01 = requests.get(\"https://webservices.iso-ne.com/api/v1.1/combinedhourlydemand/day/20140101/location/4008.json\", auth=('travisknop@gmail.com', 'Nirvana1'))\n",
    "Hourly day electricity demand: http://www.iso-ne.com/isoexpress/web/reports/load-and-demand/-/tree/demand-by-zone\n",
    "NOAA data: http://www7.ncdc.noaa.gov/CDO/cdoselect.cmd\n",
    "Nat gas pipelines: http://www.eia.gov/pub/oil_gas/natural_gas/analysis_publications/ngpipeline/northeast.html\n",
    "Common ISO-NE Abbrevs\n",
    "drtp = demand response threshhold price\n",
    "lmp = Locational Marginal Pricing"
   ]
  },
  {
   "cell_type": "code",
   "execution_count": 110,
   "metadata": {
    "collapsed": false
   },
   "outputs": [],
   "source": [
    "import pandas as pd\n",
    "import numpy as np\n",
    "import matplotlib.pyplot as plt\n",
    "import seaborn\n",
    "import scipy\n",
    "import sklearn\n",
    "import itertools\n",
    "from sklearn.pipeline import Pipeline\n",
    "from sklearn.preprocessing import PolynomialFeatures\n",
    "from sklearn.linear_model import LinearRegression\n",
    "from sklearn import naive_bayes\n",
    "from sklearn import metrics\n",
    "from sklearn.cross_validation import train_test_split\n",
    "%matplotlib inline"
   ]
  },
  {
   "cell_type": "markdown",
   "metadata": {},
   "source": [
    "## Energy Sources"
   ]
  },
  {
   "cell_type": "code",
   "execution_count": 2,
   "metadata": {
    "collapsed": false,
    "scrolled": true
   },
   "outputs": [
    {
     "name": "stdout",
     "output_type": "stream",
     "text": [
      "Index(['Total Generation (GWh)', 'Gas', 'Nuclear', 'Hydro', 'Coal', 'Oil/Gas',\n",
      "       'Wood/Refuse', 'Refuse', 'Wind', 'Oil', 'Landfill Gas', 'Solar',\n",
      "       'Steam', 'Methane/Refuse'],\n",
      "      dtype='object', name='2014')\n"
     ]
    },
    {
     "data": {
      "text/html": [
       "<div>\n",
       "<table border=\"1\" class=\"dataframe\">\n",
       "  <thead>\n",
       "    <tr style=\"text-align: right;\">\n",
       "      <th></th>\n",
       "      <th>Date</th>\n",
       "      <th>JAN</th>\n",
       "      <th>FEB</th>\n",
       "      <th>MAR</th>\n",
       "      <th>APR</th>\n",
       "      <th>MAY</th>\n",
       "      <th>JUN</th>\n",
       "      <th>JUL</th>\n",
       "      <th>AUG</th>\n",
       "      <th>SEP</th>\n",
       "      <th>OCT</th>\n",
       "      <th>NOV</th>\n",
       "      <th>DEC</th>\n",
       "      <th>annual_pct</th>\n",
       "    </tr>\n",
       "    <tr>\n",
       "      <th>2014</th>\n",
       "      <th></th>\n",
       "      <th></th>\n",
       "      <th></th>\n",
       "      <th></th>\n",
       "      <th></th>\n",
       "      <th></th>\n",
       "      <th></th>\n",
       "      <th></th>\n",
       "      <th></th>\n",
       "      <th></th>\n",
       "      <th></th>\n",
       "      <th></th>\n",
       "      <th></th>\n",
       "      <th></th>\n",
       "    </tr>\n",
       "  </thead>\n",
       "  <tbody>\n",
       "    <tr>\n",
       "      <th>Total Generation (GWh)</th>\n",
       "      <td>108357</td>\n",
       "      <td>10095</td>\n",
       "      <td>8345</td>\n",
       "      <td>9051</td>\n",
       "      <td>8013</td>\n",
       "      <td>8435</td>\n",
       "      <td>9322</td>\n",
       "      <td>11085</td>\n",
       "      <td>10081</td>\n",
       "      <td>8927</td>\n",
       "      <td>8302</td>\n",
       "      <td>8031</td>\n",
       "      <td>8671</td>\n",
       "      <td>1.000000</td>\n",
       "    </tr>\n",
       "    <tr>\n",
       "      <th>Gas</th>\n",
       "      <td>42745</td>\n",
       "      <td>2472</td>\n",
       "      <td>2342</td>\n",
       "      <td>2362</td>\n",
       "      <td>3560</td>\n",
       "      <td>3588</td>\n",
       "      <td>4265</td>\n",
       "      <td>5354</td>\n",
       "      <td>4861</td>\n",
       "      <td>4037</td>\n",
       "      <td>3805</td>\n",
       "      <td>2985</td>\n",
       "      <td>3115</td>\n",
       "      <td>0.394483</td>\n",
       "    </tr>\n",
       "    <tr>\n",
       "      <th>Nuclear</th>\n",
       "      <td>36838</td>\n",
       "      <td>3440</td>\n",
       "      <td>3070</td>\n",
       "      <td>3454</td>\n",
       "      <td>2058</td>\n",
       "      <td>2718</td>\n",
       "      <td>3240</td>\n",
       "      <td>3336</td>\n",
       "      <td>3344</td>\n",
       "      <td>3297</td>\n",
       "      <td>2797</td>\n",
       "      <td>2766</td>\n",
       "      <td>3319</td>\n",
       "      <td>0.339969</td>\n",
       "    </tr>\n",
       "    <tr>\n",
       "      <th>Hydro</th>\n",
       "      <td>8708</td>\n",
       "      <td>846</td>\n",
       "      <td>614</td>\n",
       "      <td>595</td>\n",
       "      <td>928</td>\n",
       "      <td>1074</td>\n",
       "      <td>723</td>\n",
       "      <td>774</td>\n",
       "      <td>674</td>\n",
       "      <td>411</td>\n",
       "      <td>547</td>\n",
       "      <td>612</td>\n",
       "      <td>911</td>\n",
       "      <td>0.080364</td>\n",
       "    </tr>\n",
       "    <tr>\n",
       "      <th>Coal</th>\n",
       "      <td>5055</td>\n",
       "      <td>1067</td>\n",
       "      <td>1161</td>\n",
       "      <td>1239</td>\n",
       "      <td>352</td>\n",
       "      <td>21</td>\n",
       "      <td>42</td>\n",
       "      <td>231</td>\n",
       "      <td>41</td>\n",
       "      <td>62</td>\n",
       "      <td>4</td>\n",
       "      <td>548</td>\n",
       "      <td>286</td>\n",
       "      <td>0.046651</td>\n",
       "    </tr>\n",
       "    <tr>\n",
       "      <th>Oil/Gas</th>\n",
       "      <td>4839</td>\n",
       "      <td>952</td>\n",
       "      <td>369</td>\n",
       "      <td>371</td>\n",
       "      <td>379</td>\n",
       "      <td>308</td>\n",
       "      <td>299</td>\n",
       "      <td>607</td>\n",
       "      <td>389</td>\n",
       "      <td>367</td>\n",
       "      <td>316</td>\n",
       "      <td>254</td>\n",
       "      <td>230</td>\n",
       "      <td>0.044658</td>\n",
       "    </tr>\n",
       "    <tr>\n",
       "      <th>Wood/Refuse</th>\n",
       "      <td>3965</td>\n",
       "      <td>351</td>\n",
       "      <td>300</td>\n",
       "      <td>351</td>\n",
       "      <td>282</td>\n",
       "      <td>281</td>\n",
       "      <td>320</td>\n",
       "      <td>348</td>\n",
       "      <td>336</td>\n",
       "      <td>315</td>\n",
       "      <td>350</td>\n",
       "      <td>364</td>\n",
       "      <td>366</td>\n",
       "      <td>0.036592</td>\n",
       "    </tr>\n",
       "    <tr>\n",
       "      <th>Refuse</th>\n",
       "      <td>2577</td>\n",
       "      <td>213</td>\n",
       "      <td>188</td>\n",
       "      <td>234</td>\n",
       "      <td>186</td>\n",
       "      <td>221</td>\n",
       "      <td>225</td>\n",
       "      <td>218</td>\n",
       "      <td>225</td>\n",
       "      <td>216</td>\n",
       "      <td>222</td>\n",
       "      <td>221</td>\n",
       "      <td>209</td>\n",
       "      <td>0.023782</td>\n",
       "    </tr>\n",
       "    <tr>\n",
       "      <th>Wind</th>\n",
       "      <td>1929</td>\n",
       "      <td>211</td>\n",
       "      <td>177</td>\n",
       "      <td>204</td>\n",
       "      <td>190</td>\n",
       "      <td>137</td>\n",
       "      <td>114</td>\n",
       "      <td>114</td>\n",
       "      <td>90</td>\n",
       "      <td>135</td>\n",
       "      <td>185</td>\n",
       "      <td>212</td>\n",
       "      <td>160</td>\n",
       "      <td>0.017802</td>\n",
       "    </tr>\n",
       "    <tr>\n",
       "      <th>Oil</th>\n",
       "      <td>815</td>\n",
       "      <td>491</td>\n",
       "      <td>81</td>\n",
       "      <td>168</td>\n",
       "      <td>4</td>\n",
       "      <td>2</td>\n",
       "      <td>3</td>\n",
       "      <td>6</td>\n",
       "      <td>32</td>\n",
       "      <td>7</td>\n",
       "      <td>6</td>\n",
       "      <td>5</td>\n",
       "      <td>12</td>\n",
       "      <td>0.007521</td>\n",
       "    </tr>\n",
       "    <tr>\n",
       "      <th>Landfill Gas</th>\n",
       "      <td>477</td>\n",
       "      <td>39</td>\n",
       "      <td>32</td>\n",
       "      <td>41</td>\n",
       "      <td>40</td>\n",
       "      <td>41</td>\n",
       "      <td>41</td>\n",
       "      <td>41</td>\n",
       "      <td>42</td>\n",
       "      <td>37</td>\n",
       "      <td>40</td>\n",
       "      <td>42</td>\n",
       "      <td>42</td>\n",
       "      <td>0.004402</td>\n",
       "    </tr>\n",
       "    <tr>\n",
       "      <th>Solar</th>\n",
       "      <td>330</td>\n",
       "      <td>7</td>\n",
       "      <td>8</td>\n",
       "      <td>24</td>\n",
       "      <td>30</td>\n",
       "      <td>32</td>\n",
       "      <td>40</td>\n",
       "      <td>42</td>\n",
       "      <td>43</td>\n",
       "      <td>41</td>\n",
       "      <td>27</td>\n",
       "      <td>21</td>\n",
       "      <td>15</td>\n",
       "      <td>0.003045</td>\n",
       "    </tr>\n",
       "    <tr>\n",
       "      <th>Steam</th>\n",
       "      <td>45</td>\n",
       "      <td>3</td>\n",
       "      <td>0</td>\n",
       "      <td>5</td>\n",
       "      <td>1</td>\n",
       "      <td>9</td>\n",
       "      <td>8</td>\n",
       "      <td>11</td>\n",
       "      <td>2</td>\n",
       "      <td>1</td>\n",
       "      <td>2</td>\n",
       "      <td>0</td>\n",
       "      <td>4</td>\n",
       "      <td>0.000415</td>\n",
       "    </tr>\n",
       "    <tr>\n",
       "      <th>Methane/Refuse</th>\n",
       "      <td>35</td>\n",
       "      <td>3</td>\n",
       "      <td>3</td>\n",
       "      <td>3</td>\n",
       "      <td>3</td>\n",
       "      <td>3</td>\n",
       "      <td>3</td>\n",
       "      <td>3</td>\n",
       "      <td>3</td>\n",
       "      <td>3</td>\n",
       "      <td>3</td>\n",
       "      <td>3</td>\n",
       "      <td>3</td>\n",
       "      <td>0.000323</td>\n",
       "    </tr>\n",
       "  </tbody>\n",
       "</table>\n",
       "</div>"
      ],
      "text/plain": [
       "                          Date    JAN   FEB   MAR   APR   MAY   JUN    JUL  \\\n",
       "2014                                                                         \n",
       "Total Generation (GWh)  108357  10095  8345  9051  8013  8435  9322  11085   \n",
       "Gas                      42745   2472  2342  2362  3560  3588  4265   5354   \n",
       "Nuclear                  36838   3440  3070  3454  2058  2718  3240   3336   \n",
       "Hydro                     8708    846   614   595   928  1074   723    774   \n",
       "Coal                      5055   1067  1161  1239   352    21    42    231   \n",
       "Oil/Gas                   4839    952   369   371   379   308   299    607   \n",
       "Wood/Refuse               3965    351   300   351   282   281   320    348   \n",
       "Refuse                    2577    213   188   234   186   221   225    218   \n",
       "Wind                      1929    211   177   204   190   137   114    114   \n",
       "Oil                        815    491    81   168     4     2     3      6   \n",
       "Landfill Gas               477     39    32    41    40    41    41     41   \n",
       "Solar                      330      7     8    24    30    32    40     42   \n",
       "Steam                       45      3     0     5     1     9     8     11   \n",
       "Methane/Refuse              35      3     3     3     3     3     3      3   \n",
       "\n",
       "                          AUG   SEP   OCT   NOV   DEC  annual_pct  \n",
       "2014                                                               \n",
       "Total Generation (GWh)  10081  8927  8302  8031  8671    1.000000  \n",
       "Gas                      4861  4037  3805  2985  3115    0.394483  \n",
       "Nuclear                  3344  3297  2797  2766  3319    0.339969  \n",
       "Hydro                     674   411   547   612   911    0.080364  \n",
       "Coal                       41    62     4   548   286    0.046651  \n",
       "Oil/Gas                   389   367   316   254   230    0.044658  \n",
       "Wood/Refuse               336   315   350   364   366    0.036592  \n",
       "Refuse                    225   216   222   221   209    0.023782  \n",
       "Wind                       90   135   185   212   160    0.017802  \n",
       "Oil                        32     7     6     5    12    0.007521  \n",
       "Landfill Gas               42    37    40    42    42    0.004402  \n",
       "Solar                      43    41    27    21    15    0.003045  \n",
       "Steam                       2     1     2     0     4    0.000415  \n",
       "Methane/Refuse              3     3     3     3     3    0.000323  "
      ]
     },
     "execution_count": 2,
     "metadata": {},
     "output_type": "execute_result"
    }
   ],
   "source": [
    "def load_energy_source():\n",
    "    energy_source = pd.read_csv(\"~/travis_python/homework/FINAL/2014_energy_peak_source.csv\", header=1)\n",
    "    energy_source = energy_source.drop(energy_source.columns[14:], axis=1)\n",
    "    energy_source = energy_source.drop(energy_source.index[:22])\n",
    "    energy_source = energy_source.set_index(\"2014\")\n",
    "    energy_source = energy_source.applymap(int)\n",
    "    energy_source[\"annual_pct\"] = energy_source.Date / 108357\n",
    "    energy_source.loc[\"Hydro\"] = (energy_source.loc[\"Hydro:RunRiver&Pondage\"] + energy_source.loc[\"Hydro:Pump Storage\"])\n",
    "    energy_source = energy_source.drop(energy_source.index[-2])\n",
    "    energy_source = energy_source.drop(energy_source.index[11])\n",
    "    energy_source = energy_source.drop(energy_source.index[8])\n",
    "    energy_source = energy_source.drop(energy_source.index[6])\n",
    "    energy_source = energy_source.drop(energy_source.index[5])\n",
    "    energy_source = energy_source.sort(columns=\"annual_pct\", ascending=False)\n",
    "    print(energy_source.index)\n",
    "    return energy_source\n",
    "\n",
    "energy_source = load_energy_source()\n",
    "energy_source"
   ]
  },
  {
   "cell_type": "markdown",
   "metadata": {},
   "source": [
    "# Daily Weather Data~~~~~~~~"
   ]
  },
  {
   "cell_type": "code",
   "execution_count": 3,
   "metadata": {
    "collapsed": false
   },
   "outputs": [
    {
     "name": "stdout",
     "output_type": "stream",
     "text": [
      "<class 'pandas.core.frame.DataFrame'>\n",
      "DatetimeIndex: 1802 entries, 2011-01-01 to 2015-12-07\n",
      "Data columns (total 5 columns):\n",
      "highT    1802 non-null float64\n",
      "avgT     1802 non-null float64\n",
      "lowT     1802 non-null float64\n",
      "avgH     1802 non-null int64\n",
      "hdd      1802 non-null float64\n",
      "dtypes: float64(4), int64(1)\n",
      "memory usage: 84.5 KB\n"
     ]
    }
   ],
   "source": [
    "def to_fahrenheit(temp):\n",
    "    return (temp * (9 / 5) + 32).round(1)\n",
    "\n",
    "def load_weather_data():\n",
    "    weather1 = pd.read_csv(\"/Users/travisknop/travis_python/homework/FINAL/weather_daily_2011_15.csv\")\n",
    "    weather1 = weather1.drop(weather1.columns[21], axis=1)\n",
    "    weather1 = weather1.drop(weather1.columns[10:21], axis=1)\n",
    "    weather1 = weather1.drop(weather1.columns[5:9], axis=1)\n",
    "    weather1 = weather1.drop(weather1.columns[1], axis=1)\n",
    "    weather1[\"Unnamed: 0\"] = pd.to_datetime(weather1[\"Unnamed: 0\"])\n",
    "    weather1.columns = [\"date\", \"highT\", \"avgT\", \"lowT\", \"avgH\"]\n",
    "    weather1 = weather1[pd.notnull(weather1['date'])]\n",
    "    weather1 = weather1.set_index(\"date\")\n",
    "    weather1 = weather1.applymap(int)\n",
    "    weather1[\"highT\"] = weather1['highT'].apply(to_fahrenheit)\n",
    "    weather1[\"avgT\"] = weather1['avgT'].apply(to_fahrenheit)\n",
    "    weather1[\"lowT\"] = weather1['lowT'].apply(to_fahrenheit)\n",
    "    weather1[\"hdd\"] = weather1['avgT'].apply(lambda x: 65-x)\n",
    "    return weather1\n",
    "\n",
    "daily_weather = load_weather_data()\n",
    "daily_weather.info()"
   ]
  },
  {
   "cell_type": "code",
   "execution_count": 4,
   "metadata": {
    "collapsed": true
   },
   "outputs": [],
   "source": [
    "daily_weather.to_csv(\"weather_daily_clean.csv\")"
   ]
  },
  {
   "cell_type": "code",
   "execution_count": 5,
   "metadata": {
    "collapsed": false
   },
   "outputs": [
    {
     "data": {
      "text/plain": [
       "([<matplotlib.patches.Wedge at 0x109e28ac8>,\n",
       "  <matplotlib.patches.Wedge at 0x109debcf8>,\n",
       "  <matplotlib.patches.Wedge at 0x109cc7160>,\n",
       "  <matplotlib.patches.Wedge at 0x10a041358>,\n",
       "  <matplotlib.patches.Wedge at 0x10a046c18>,\n",
       "  <matplotlib.patches.Wedge at 0x10a051518>,\n",
       "  <matplotlib.patches.Wedge at 0x10a057dd8>,\n",
       "  <matplotlib.patches.Wedge at 0x10a0636d8>,\n",
       "  <matplotlib.patches.Wedge at 0x10a069f98>,\n",
       "  <matplotlib.patches.Wedge at 0x109e33898>,\n",
       "  <matplotlib.patches.Wedge at 0x109e3f198>,\n",
       "  <matplotlib.patches.Wedge at 0x109e46a58>,\n",
       "  <matplotlib.patches.Wedge at 0x109e52358>],\n",
       " [<matplotlib.text.Text at 0x109df2860>,\n",
       "  <matplotlib.text.Text at 0x109cc79e8>,\n",
       "  <matplotlib.text.Text at 0x109cd1400>,\n",
       "  <matplotlib.text.Text at 0x10a046128>,\n",
       "  <matplotlib.text.Text at 0x10a04a9e8>,\n",
       "  <matplotlib.text.Text at 0x10a0572e8>,\n",
       "  <matplotlib.text.Text at 0x10a05eba8>,\n",
       "  <matplotlib.text.Text at 0x10a0694a8>,\n",
       "  <matplotlib.text.Text at 0x10a06ed68>,\n",
       "  <matplotlib.text.Text at 0x109e3a668>,\n",
       "  <matplotlib.text.Text at 0x109e3ff28>,\n",
       "  <matplotlib.text.Text at 0x109e4b828>,\n",
       "  <matplotlib.text.Text at 0x109e57128>],\n",
       " [<matplotlib.text.Text at 0x109df2630>,\n",
       "  <matplotlib.text.Text at 0x109cc7cc0>,\n",
       "  <matplotlib.text.Text at 0x109e28dd8>,\n",
       "  <matplotlib.text.Text at 0x10a0466d8>,\n",
       "  <matplotlib.text.Text at 0x10a04af98>,\n",
       "  <matplotlib.text.Text at 0x10a057898>,\n",
       "  <matplotlib.text.Text at 0x10a063198>,\n",
       "  <matplotlib.text.Text at 0x10a069a58>,\n",
       "  <matplotlib.text.Text at 0x109e33358>,\n",
       "  <matplotlib.text.Text at 0x109e3ac18>,\n",
       "  <matplotlib.text.Text at 0x109e46518>,\n",
       "  <matplotlib.text.Text at 0x109e4bdd8>,\n",
       "  <matplotlib.text.Text at 0x109e576d8>])"
      ]
     },
     "execution_count": 5,
     "metadata": {},
     "output_type": "execute_result"
    },
    {
     "data": {
      "image/png": "[encoded data removed]",
      "text/plain": [
       "<matplotlib.figure.Figure at 0x109cbc9e8>"
      ]
     },
     "metadata": {},
     "output_type": "display_data"
    }
   ],
   "source": [
    "plt.pie(energy_source.Date[1:], autopct='%1.1f%%', shadow=True)"
   ]
  },
  {
   "cell_type": "code",
   "execution_count": 6,
   "metadata": {
    "collapsed": false
   },
   "outputs": [
    {
     "name": "stdout",
     "output_type": "stream",
     "text": [
      "<class 'pandas.core.frame.DataFrame'>\n",
      "Index: 14 entries, Total Generation (GWh) to Methane/Refuse\n",
      "Data columns (total 14 columns):\n",
      "Date          14 non-null float64\n",
      "JAN           14 non-null float64\n",
      "FEB           14 non-null float64\n",
      "MAR           14 non-null float64\n",
      "APR           14 non-null float64\n",
      "MAY           14 non-null float64\n",
      "JUN           14 non-null float64\n",
      "JUL           14 non-null float64\n",
      "AUG           14 non-null float64\n",
      "SEP           14 non-null float64\n",
      "OCT           14 non-null float64\n",
      "NOV           14 non-null float64\n",
      "DEC           14 non-null float64\n",
      "annual_pct    14 non-null float64\n",
      "dtypes: float64(14)\n",
      "memory usage: 1.6+ KB\n"
     ]
    }
   ],
   "source": [
    "energy_source.info()"
   ]
  },
  {
   "cell_type": "markdown",
   "metadata": {},
   "source": [
    "# Hourly Electricity"
   ]
  },
  {
   "cell_type": "code",
   "execution_count": 7,
   "metadata": {
    "collapsed": false
   },
   "outputs": [
    {
     "name": "stdout",
     "output_type": "stream",
     "text": [
      "<class 'pandas.core.frame.DataFrame'>\n",
      "Int64Index: 43248 entries, 0 to 43290\n",
      "Data columns (total 3 columns):\n",
      "Date     43248 non-null datetime64[ns]\n",
      "MWH      43248 non-null float64\n",
      "MWH.1    43248 non-null float64\n",
      "dtypes: datetime64[ns](1), float64(2)\n",
      "memory usage: 1.3 MB\n"
     ]
    }
   ],
   "source": [
    "def load_hourly_elec():\n",
    "    hourlydemand14 = pd.read_csv(\"~/travis_python/homework/FINAL/Hr_Elec_2011_2015c.csv\")\n",
    "    hourlydemand14 = hourlydemand14.convert_objects(convert_dates='coerce',convert_numeric=True)\n",
    "    hourlydemand14 = hourlydemand14.drop(hourlydemand14.columns[0], axis=1)\n",
    "    hourlydemand14 = hourlydemand14.drop(hourlydemand14.columns[1], axis=1)\n",
    "    hourlydemand14 = hourlydemand14.dropna()\n",
    "    return hourlydemand14\n",
    "    \n",
    "\n",
    "hr_elec = load_hourly_elec()\n",
    "hr_elec.info()"
   ]
  },
  {
   "cell_type": "markdown",
   "metadata": {},
   "source": [
    "# Daily Electricity"
   ]
  },
  {
   "cell_type": "code",
   "execution_count": 8,
   "metadata": {
    "collapsed": false
   },
   "outputs": [
    {
     "name": "stdout",
     "output_type": "stream",
     "text": [
      "<class 'pandas.core.frame.DataFrame'>\n",
      "DatetimeIndex: 1801 entries, 2011-01-01 to 2015-12-06\n",
      "Data columns (total 2 columns):\n",
      "MWH      1801 non-null float64\n",
      "MWH.1    1801 non-null float64\n",
      "dtypes: float64(2)\n",
      "memory usage: 42.2 KB\n"
     ]
    }
   ],
   "source": [
    "def convert_elec_hourly_to_daily():\n",
    "    daily_energy = hr_elec.groupby(\"Date\").aggregate(np.sum)\n",
    "    daily_energy.to_csv(\"daily electric fixed\")\n",
    "    return daily_energy\n",
    "    \n",
    "dy_elec = convert_elec_hourly_to_daily()\n",
    "dy_elec.info()"
   ]
  },
  {
   "cell_type": "markdown",
   "metadata": {},
   "source": [
    "# Join Daily Weather and Electricity:"
   ]
  },
  {
   "cell_type": "code",
   "execution_count": 9,
   "metadata": {
    "collapsed": false
   },
   "outputs": [
    {
     "data": {
      "text/html": [
       "<div>\n",
       "<table border=\"1\" class=\"dataframe\">\n",
       "  <thead>\n",
       "    <tr style=\"text-align: right;\">\n",
       "      <th></th>\n",
       "      <th>highT</th>\n",
       "      <th>avgT</th>\n",
       "      <th>lowT</th>\n",
       "      <th>avgH</th>\n",
       "      <th>hdd</th>\n",
       "      <th>MWH</th>\n",
       "      <th>MWH.1</th>\n",
       "    </tr>\n",
       "  </thead>\n",
       "  <tbody>\n",
       "    <tr>\n",
       "      <th>2011-01-01</th>\n",
       "      <td>55.4</td>\n",
       "      <td>46.4</td>\n",
       "      <td>35.6</td>\n",
       "      <td>73</td>\n",
       "      <td>18.6</td>\n",
       "      <td>64323.3</td>\n",
       "      <td>61887.1</td>\n",
       "    </tr>\n",
       "    <tr>\n",
       "      <th>2011-01-02</th>\n",
       "      <td>51.8</td>\n",
       "      <td>44.6</td>\n",
       "      <td>37.4</td>\n",
       "      <td>85</td>\n",
       "      <td>20.4</td>\n",
       "      <td>64387.1</td>\n",
       "      <td>62618.6</td>\n",
       "    </tr>\n",
       "    <tr>\n",
       "      <th>2011-01-03</th>\n",
       "      <td>37.4</td>\n",
       "      <td>33.8</td>\n",
       "      <td>28.4</td>\n",
       "      <td>48</td>\n",
       "      <td>31.2</td>\n",
       "      <td>72881.9</td>\n",
       "      <td>73045.0</td>\n",
       "    </tr>\n",
       "    <tr>\n",
       "      <th>2011-01-04</th>\n",
       "      <td>39.2</td>\n",
       "      <td>32.0</td>\n",
       "      <td>24.8</td>\n",
       "      <td>52</td>\n",
       "      <td>33.0</td>\n",
       "      <td>73978.3</td>\n",
       "      <td>75228.5</td>\n",
       "    </tr>\n",
       "    <tr>\n",
       "      <th>2011-01-05</th>\n",
       "      <td>39.2</td>\n",
       "      <td>33.8</td>\n",
       "      <td>28.4</td>\n",
       "      <td>49</td>\n",
       "      <td>31.2</td>\n",
       "      <td>73338.9</td>\n",
       "      <td>74949.4</td>\n",
       "    </tr>\n",
       "  </tbody>\n",
       "</table>\n",
       "</div>"
      ],
      "text/plain": [
       "            highT  avgT  lowT  avgH   hdd      MWH    MWH.1\n",
       "2011-01-01   55.4  46.4  35.6    73  18.6  64323.3  61887.1\n",
       "2011-01-02   51.8  44.6  37.4    85  20.4  64387.1  62618.6\n",
       "2011-01-03   37.4  33.8  28.4    48  31.2  72881.9  73045.0\n",
       "2011-01-04   39.2  32.0  24.8    52  33.0  73978.3  75228.5\n",
       "2011-01-05   39.2  33.8  28.4    49  31.2  73338.9  74949.4"
      ]
     },
     "execution_count": 9,
     "metadata": {},
     "output_type": "execute_result"
    }
   ],
   "source": [
    "def join_daily_weather_and_elec():\n",
    "    output = daily_weather.merge(dy_elec, left_index=True, right_index=True)\n",
    "    return output\n",
    "    \n",
    "dy_w_elec = join_daily_weather_and_elec()\n",
    "dy_w_elec.head()"
   ]
  },
  {
   "cell_type": "markdown",
   "metadata": {},
   "source": [
    "# Season & Climate"
   ]
  },
  {
   "cell_type": "code",
   "execution_count": 10,
   "metadata": {
    "collapsed": false
   },
   "outputs": [
    {
     "data": {
      "text/html": [
       "<div>\n",
       "<table border=\"1\" class=\"dataframe\">\n",
       "  <thead>\n",
       "    <tr style=\"text-align: right;\">\n",
       "      <th></th>\n",
       "      <th>day_of_year</th>\n",
       "      <th>clim_high</th>\n",
       "      <th>clim_avg</th>\n",
       "      <th>clim_low</th>\n",
       "    </tr>\n",
       "  </thead>\n",
       "  <tbody>\n",
       "    <tr>\n",
       "      <th>2011-01-01</th>\n",
       "      <td>0</td>\n",
       "      <td>37.8</td>\n",
       "      <td>30.7</td>\n",
       "      <td>23.6</td>\n",
       "    </tr>\n",
       "    <tr>\n",
       "      <th>2011-01-02</th>\n",
       "      <td>1</td>\n",
       "      <td>37.6</td>\n",
       "      <td>30.5</td>\n",
       "      <td>23.4</td>\n",
       "    </tr>\n",
       "    <tr>\n",
       "      <th>2011-01-03</th>\n",
       "      <td>2</td>\n",
       "      <td>37.5</td>\n",
       "      <td>30.4</td>\n",
       "      <td>23.3</td>\n",
       "    </tr>\n",
       "    <tr>\n",
       "      <th>2011-01-04</th>\n",
       "      <td>3</td>\n",
       "      <td>37.3</td>\n",
       "      <td>30.2</td>\n",
       "      <td>23.1</td>\n",
       "    </tr>\n",
       "    <tr>\n",
       "      <th>2011-01-05</th>\n",
       "      <td>4</td>\n",
       "      <td>37.2</td>\n",
       "      <td>30.1</td>\n",
       "      <td>22.9</td>\n",
       "    </tr>\n",
       "  </tbody>\n",
       "</table>\n",
       "</div>"
      ],
      "text/plain": [
       "            day_of_year  clim_high  clim_avg  clim_low\n",
       "2011-01-01            0       37.8      30.7      23.6\n",
       "2011-01-02            1       37.6      30.5      23.4\n",
       "2011-01-03            2       37.5      30.4      23.3\n",
       "2011-01-04            3       37.3      30.2      23.1\n",
       "2011-01-05            4       37.2      30.1      22.9"
      ]
     },
     "execution_count": 10,
     "metadata": {},
     "output_type": "execute_result"
    }
   ],
   "source": [
    "def load_climate():\n",
    "    output = pd.read_csv(\"~/travis_python/homework/FINAL/Climate.csv\")\n",
    "    output = output.drop(output.columns[0], axis=1)\n",
    "    output = output.iloc[:1801]\n",
    "    output = output.set_index(dy_w_elec.index)\n",
    "    return output\n",
    "\n",
    "climate = load_climate()\n",
    "climate.head()"
   ]
  },
  {
   "cell_type": "markdown",
   "metadata": {},
   "source": [
    "# Add Climate to Daily"
   ]
  },
  {
   "cell_type": "code",
   "execution_count": 11,
   "metadata": {
    "collapsed": false
   },
   "outputs": [
    {
     "data": {
      "text/html": [
       "<div>\n",
       "<table border=\"1\" class=\"dataframe\">\n",
       "  <thead>\n",
       "    <tr style=\"text-align: right;\">\n",
       "      <th></th>\n",
       "      <th>highT</th>\n",
       "      <th>avgT</th>\n",
       "      <th>lowT</th>\n",
       "      <th>avgH</th>\n",
       "      <th>hdd</th>\n",
       "      <th>MWH</th>\n",
       "      <th>MWH.1</th>\n",
       "      <th>day_of_year</th>\n",
       "      <th>clim_high</th>\n",
       "      <th>clim_avg</th>\n",
       "      <th>clim_low</th>\n",
       "    </tr>\n",
       "  </thead>\n",
       "  <tbody>\n",
       "    <tr>\n",
       "      <th>2011-01-01</th>\n",
       "      <td>55.4</td>\n",
       "      <td>46.4</td>\n",
       "      <td>35.6</td>\n",
       "      <td>73</td>\n",
       "      <td>18.6</td>\n",
       "      <td>64323.3</td>\n",
       "      <td>61887.1</td>\n",
       "      <td>0</td>\n",
       "      <td>37.8</td>\n",
       "      <td>30.7</td>\n",
       "      <td>23.6</td>\n",
       "    </tr>\n",
       "    <tr>\n",
       "      <th>2011-01-02</th>\n",
       "      <td>51.8</td>\n",
       "      <td>44.6</td>\n",
       "      <td>37.4</td>\n",
       "      <td>85</td>\n",
       "      <td>20.4</td>\n",
       "      <td>64387.1</td>\n",
       "      <td>62618.6</td>\n",
       "      <td>1</td>\n",
       "      <td>37.6</td>\n",
       "      <td>30.5</td>\n",
       "      <td>23.4</td>\n",
       "    </tr>\n",
       "    <tr>\n",
       "      <th>2011-01-03</th>\n",
       "      <td>37.4</td>\n",
       "      <td>33.8</td>\n",
       "      <td>28.4</td>\n",
       "      <td>48</td>\n",
       "      <td>31.2</td>\n",
       "      <td>72881.9</td>\n",
       "      <td>73045.0</td>\n",
       "      <td>2</td>\n",
       "      <td>37.5</td>\n",
       "      <td>30.4</td>\n",
       "      <td>23.3</td>\n",
       "    </tr>\n",
       "    <tr>\n",
       "      <th>2011-01-04</th>\n",
       "      <td>39.2</td>\n",
       "      <td>32.0</td>\n",
       "      <td>24.8</td>\n",
       "      <td>52</td>\n",
       "      <td>33.0</td>\n",
       "      <td>73978.3</td>\n",
       "      <td>75228.5</td>\n",
       "      <td>3</td>\n",
       "      <td>37.3</td>\n",
       "      <td>30.2</td>\n",
       "      <td>23.1</td>\n",
       "    </tr>\n",
       "    <tr>\n",
       "      <th>2011-01-05</th>\n",
       "      <td>39.2</td>\n",
       "      <td>33.8</td>\n",
       "      <td>28.4</td>\n",
       "      <td>49</td>\n",
       "      <td>31.2</td>\n",
       "      <td>73338.9</td>\n",
       "      <td>74949.4</td>\n",
       "      <td>4</td>\n",
       "      <td>37.2</td>\n",
       "      <td>30.1</td>\n",
       "      <td>22.9</td>\n",
       "    </tr>\n",
       "  </tbody>\n",
       "</table>\n",
       "</div>"
      ],
      "text/plain": [
       "            highT  avgT  lowT  avgH   hdd      MWH    MWH.1  day_of_year  \\\n",
       "2011-01-01   55.4  46.4  35.6    73  18.6  64323.3  61887.1            0   \n",
       "2011-01-02   51.8  44.6  37.4    85  20.4  64387.1  62618.6            1   \n",
       "2011-01-03   37.4  33.8  28.4    48  31.2  72881.9  73045.0            2   \n",
       "2011-01-04   39.2  32.0  24.8    52  33.0  73978.3  75228.5            3   \n",
       "2011-01-05   39.2  33.8  28.4    49  31.2  73338.9  74949.4            4   \n",
       "\n",
       "            clim_high  clim_avg  clim_low  \n",
       "2011-01-01       37.8      30.7      23.6  \n",
       "2011-01-02       37.6      30.5      23.4  \n",
       "2011-01-03       37.5      30.4      23.3  \n",
       "2011-01-04       37.3      30.2      23.1  \n",
       "2011-01-05       37.2      30.1      22.9  "
      ]
     },
     "execution_count": 11,
     "metadata": {},
     "output_type": "execute_result"
    }
   ],
   "source": [
    "def add_climate_daily():\n",
    "    df = dy_w_elec.merge(climate, left_index=True, right_index=True)\n",
    "    return df\n",
    "\n",
    "dwc_elec = add_climate_daily()\n",
    "dwc_elec.head()\n"
   ]
  },
  {
   "cell_type": "markdown",
   "metadata": {},
   "source": [
    "# Regressions"
   ]
  },
  {
   "cell_type": "code",
   "execution_count": 12,
   "metadata": {
    "collapsed": true
   },
   "outputs": [],
   "source": [
    "daily_train = dwc_elec.iloc[:1795]\n",
    "daily_test = dwc_elec.iloc[1795:]"
   ]
  },
  {
   "cell_type": "code",
   "execution_count": 13,
   "metadata": {
    "collapsed": false
   },
   "outputs": [],
   "source": [
    "def reshape_data(vector):\n",
    "    reshaped_data = vector.values.reshape((-1, 1))\n",
    "    return reshaped_data\n",
    "\n",
    "def arrayed_data(vector):\n",
    "    output = np.asarray(vector)\n",
    "    return output\n",
    "\n",
    "dayT = reshape_data(dwc_elec.avgT)\n",
    "trainT = reshape_data(daily_train.avgT)\n",
    "testT = reshape_data(daily_test.avgT)\n",
    "daMWH = reshape_data(dwc_elec.MWH)\n",
    "dayMWH = arrayed_data(dwc_elec[\"MWH.1\"])\n",
    "trainMWH = arrayed_data(daily_train[\"MWH.1\"])\n",
    "testMWH = arrayed_data(daily_test[\"MWH.1\"])"
   ]
  },
  {
   "cell_type": "markdown",
   "metadata": {},
   "source": [
    "## Combining Day of Year and Average Temp"
   ]
  },
  {
   "cell_type": "code",
   "execution_count": 14,
   "metadata": {
    "collapsed": false
   },
   "outputs": [
    {
     "name": "stderr",
     "output_type": "stream",
     "text": [
      "/Users/travisknop/travis_python/.direnv/python-3.5.0/lib/python3.5/site-packages/sklearn/base.py:175: DeprecationWarning: inspect.getargspec() is deprecated, use inspect.signature() instead\n",
      "  args, varargs, kw, default = inspect.getargspec(init)\n",
      "/Users/travisknop/travis_python/.direnv/python-3.5.0/lib/python3.5/site-packages/sklearn/base.py:175: DeprecationWarning: inspect.getargspec() is deprecated, use inspect.signature() instead\n",
      "  args, varargs, kw, default = inspect.getargspec(init)\n",
      "/Users/travisknop/travis_python/.direnv/python-3.5.0/lib/python3.5/site-packages/sklearn/base.py:175: DeprecationWarning: inspect.getargspec() is deprecated, use inspect.signature() instead\n",
      "  args, varargs, kw, default = inspect.getargspec(init)\n"
     ]
    },
    {
     "data": {
      "text/plain": [
       "Pipeline(steps=[('poly', PolynomialFeatures(degree=6, include_bias=True, interaction_only=False)), ('linear', LinearRegression(copy_X=True, fit_intercept=False, n_jobs=1, normalize=False))])"
      ]
     },
     "execution_count": 14,
     "metadata": {},
     "output_type": "execute_result"
    }
   ],
   "source": [
    "day_temp = daily_train.loc[:, [\"day_of_year\", \"avgT\", \"MWH\"]]\n",
    "dv = day_temp[[\"day_of_year\", \"avgT\"]]\n",
    "iv = day_temp[\"MWH\"]\n",
    "model2 = Pipeline([('poly', PolynomialFeatures(degree=6)),\n",
    "                  ('linear', LinearRegression(fit_intercept=False))])\n",
    "model2.fit(dv, iv)\n"
   ]
  },
  {
   "cell_type": "markdown",
   "metadata": {},
   "source": [
    "### Comparing Day Ahead to Real-Time"
   ]
  },
  {
   "cell_type": "code",
   "execution_count": 15,
   "metadata": {
    "collapsed": false
   },
   "outputs": [
    {
     "name": "stdout",
     "output_type": "stream",
     "text": [
      "Variance Score: 0.92\n"
     ]
    },
    {
     "data": {
      "image/png": "[encoded data removed]",
      "text/plain": [
       "<matplotlib.figure.Figure at 0x106754e80>"
      ]
     },
     "metadata": {},
     "output_type": "display_data"
    }
   ],
   "source": [
    "dart = Pipeline([('linear', LinearRegression(fit_intercept=True))])\n",
    "dart.fit(daMWH, dayMWH)\n",
    "\n",
    "print('Variance Score: %.2f' % dart.score(daMWH, dayMWH))\n",
    "\n",
    "plt.scatter(daily_train.MWH, daily_train[\"MWH.1\"])\n",
    "def plot_regr(fn):\n",
    "    # scatter plot first\n",
    "    plt.scatter(dwc_elec[\"MWH\"], dwc_elec[\"MWH.1\"])\n",
    "    xmin, xmax = plt.xlim(xmin=50000, xmax = 120000)\n",
    "    xs = np.linspace(xmin, xmax, 100)\n",
    "    # fn is our (y = mx + b) expression\n",
    "    plt.ylabel(\"Day-Ahead Prediction (MWh)\", size=20)\n",
    "    plt.xlabel(\"Real-Time Demand (MWh)\", size=20)\n",
    "    plt.ylim(ymax=120000, ymin=50000)\n",
    "    plt.plot(xs, [fn(x) for x in xs], color=\"red\", linewidth=3)\n",
    "    \n",
    "fn = lambda x: dart.predict(x)[0]\n",
    "plot_regr(fn)"
   ]
  },
  {
   "cell_type": "code",
   "execution_count": 16,
   "metadata": {
    "collapsed": true
   },
   "outputs": [],
   "source": [
    "def plot_regression(fn):\n",
    "    # scatter plot first\n",
    "    plt.figure(figsize=(20, 10))\n",
    "    plt.scatter(dwc_elec.avgT, dwc_elec[\"MWH.1\"])\n",
    "    xmin, xmax = plt.xlim(xmin=0, xmax = 100)\n",
    "    xs = np.linspace(xmin, xmax, 100)\n",
    "    # fn is our (y = mx + b) expression\n",
    "    plt.ylabel(\"Energy Load in Boston (MWh)\", size=20)\n",
    "    plt.xlabel(\"Temperature (°F)\", size=20)\n",
    "    plt.ylim(ymax=120000, ymin=40000)\n",
    "    plt.plot(xs, [fn(x) for x in xs], color=\"red\", linewidth=3)"
   ]
  },
  {
   "cell_type": "code",
   "execution_count": 17,
   "metadata": {
    "collapsed": false
   },
   "outputs": [
    {
     "name": "stdout",
     "output_type": "stream",
     "text": [
      "Variance Score: 0.73\n"
     ]
    },
    {
     "data": {
      "image/png": "[encoded data removed]",
      "text/plain": [
       "<matplotlib.figure.Figure at 0x10a329a20>"
      ]
     },
     "metadata": {},
     "output_type": "display_data"
    }
   ],
   "source": [
    "model = Pipeline([('poly', PolynomialFeatures(degree=3)),\n",
    "                  ('linear', LinearRegression(fit_intercept=False))])\n",
    "model.fit(dayT, dayMWH)\n",
    "\n",
    "print('Variance Score: %.2f' % model.score(dayT, dayMWH))\n",
    "\n",
    "fn = lambda x: model.predict(x)[0]\n",
    "plot_regression(fn)"
   ]
  },
  {
   "cell_type": "code",
   "execution_count": 24,
   "metadata": {
    "collapsed": false
   },
   "outputs": [
    {
     "name": "stdout",
     "output_type": "stream",
     "text": [
      "<class 'pandas.core.frame.DataFrame'>\n",
      "DatetimeIndex: 6 entries, 2015-12-01 to 2015-12-06\n",
      "Data columns (total 11 columns):\n",
      "highT          6 non-null float64\n",
      "avgT           6 non-null float64\n",
      "lowT           6 non-null float64\n",
      "avgH           6 non-null int64\n",
      "hdd            6 non-null float64\n",
      "MWH            6 non-null float64\n",
      "MWH.1          6 non-null float64\n",
      "day_of_year    6 non-null int64\n",
      "clim_high      6 non-null float64\n",
      "clim_avg       6 non-null float64\n",
      "clim_low       6 non-null float64\n",
      "dtypes: float64(9), int64(2)\n",
      "memory usage: 576.0 bytes\n"
     ]
    }
   ],
   "source": [
    "daily_test.info()"
   ]
  },
  {
   "cell_type": "markdown",
   "metadata": {},
   "source": [
    "# Predictions"
   ]
  },
  {
   "cell_type": "code",
   "execution_count": 28,
   "metadata": {
    "collapsed": false
   },
   "outputs": [
    {
     "ename": "NameError",
     "evalue": "name 'xmin' is not defined",
     "output_type": "error",
     "traceback": [
      "\u001b[0;31m---------------------------------------------------------------------------\u001b[0m",
      "\u001b[0;31mNameError\u001b[0m                                 Traceback (most recent call last)",
      "\u001b[0;32m<ipython-input-28-320de09f69c7>\u001b[0m in \u001b[0;36m<module>\u001b[0;34m()\u001b[0m\n\u001b[1;32m     15\u001b[0m \u001b[0;34m\u001b[0m\u001b[0m\n\u001b[1;32m     16\u001b[0m \u001b[0mfn\u001b[0m \u001b[0;34m=\u001b[0m \u001b[0;32mlambda\u001b[0m \u001b[0mx\u001b[0m\u001b[0;34m:\u001b[0m \u001b[0mmodel\u001b[0m\u001b[0;34m.\u001b[0m\u001b[0mpredict\u001b[0m\u001b[0;34m(\u001b[0m\u001b[0mx\u001b[0m\u001b[0;34m)\u001b[0m\u001b[0;34m[\u001b[0m\u001b[0;36m0\u001b[0m\u001b[0;34m]\u001b[0m\u001b[0;34m\u001b[0m\u001b[0m\n\u001b[0;32m---> 17\u001b[0;31m \u001b[0mplot_forecast\u001b[0m\u001b[0;34m(\u001b[0m\u001b[0mfn\u001b[0m\u001b[0;34m)\u001b[0m\u001b[0;34m\u001b[0m\u001b[0m\n\u001b[0m",
      "\u001b[0;32m<ipython-input-28-320de09f69c7>\u001b[0m in \u001b[0;36mplot_forecast\u001b[0;34m(fn)\u001b[0m\n\u001b[1;32m      7\u001b[0m     \u001b[0mplt\u001b[0m\u001b[0;34m.\u001b[0m\u001b[0mxmax\u001b[0m\u001b[0;34m=\u001b[0m\u001b[0;36m120000\u001b[0m\u001b[0;34m\u001b[0m\u001b[0m\n\u001b[1;32m      8\u001b[0m     \u001b[0mplt\u001b[0m\u001b[0;34m.\u001b[0m\u001b[0mxmin\u001b[0m\u001b[0;34m=\u001b[0m\u001b[0;36m0\u001b[0m\u001b[0;34m\u001b[0m\u001b[0m\n\u001b[0;32m----> 9\u001b[0;31m     \u001b[0mxs\u001b[0m \u001b[0;34m=\u001b[0m \u001b[0mnp\u001b[0m\u001b[0;34m.\u001b[0m\u001b[0mlinspace\u001b[0m\u001b[0;34m(\u001b[0m\u001b[0mxmin\u001b[0m\u001b[0;34m,\u001b[0m \u001b[0mxmax\u001b[0m\u001b[0;34m,\u001b[0m \u001b[0;36m100\u001b[0m\u001b[0;34m)\u001b[0m\u001b[0;34m\u001b[0m\u001b[0m\n\u001b[0m\u001b[1;32m     10\u001b[0m     \u001b[0;31m# fn is our (y = mx + b) expression\u001b[0m\u001b[0;34m\u001b[0m\u001b[0;34m\u001b[0m\u001b[0m\n\u001b[1;32m     11\u001b[0m     \u001b[0mplt\u001b[0m\u001b[0;34m.\u001b[0m\u001b[0mylabel\u001b[0m\u001b[0;34m(\u001b[0m\u001b[0;34m\"Energy Load in Boston (MWh)\"\u001b[0m\u001b[0;34m,\u001b[0m \u001b[0msize\u001b[0m\u001b[0;34m=\u001b[0m\u001b[0;36m20\u001b[0m\u001b[0;34m)\u001b[0m\u001b[0;34m\u001b[0m\u001b[0m\n",
      "\u001b[0;31mNameError\u001b[0m: name 'xmin' is not defined"
     ]
    },
    {
     "data": {
      "text/plain": [
       "<matplotlib.figure.Figure at 0x10b087128>"
      ]
     },
     "metadata": {},
     "output_type": "display_data"
    }
   ],
   "source": [
    "st_forecast = Pipeline([('poly', PolynomialFeatures(degree=4)),\n",
    "                  ('linear', LinearRegression(fit_intercept=False))])\n",
    "st_forecast.fit(trainT, trainMWH)\n",
    "def plot_forecast(fn):\n",
    "    # scatter plot first\n",
    "    plt.figure(figsize=(20, 10))\n",
    "    xs = np.linspace(xmin, xmax, 100)\n",
    "    # fn is our (y = mx + b) expression\n",
    "    plt.ylabel(\"Energy Load in Boston (MWh)\", size=20)\n",
    "    plt.xlabel(\"Temperature (°F)\", size=20)\n",
    "    plt.ylim(ymax=120000, ymin=40000)\n",
    "    plt.plot(xs, [fn(x) for x in xs], color=\"red\", linewidth=3)\n",
    "    \n",
    "fn = lambda x: model.predict(x)[0]\n",
    "plot_forecast(fn)"
   ]
  },
  {
   "cell_type": "code",
   "execution_count": 29,
   "metadata": {
    "collapsed": false
   },
   "outputs": [
    {
     "data": {
      "text/plain": [
       "<matplotlib.text.Text at 0x10a170c50>"
      ]
     },
     "execution_count": 29,
     "metadata": {},
     "output_type": "execute_result"
    },
    {
     "data": {
      "image/png": "[encoded data removed]",
      "text/plain": [
       "<matplotlib.figure.Figure at 0x10a37e0b8>"
      ]
     },
     "metadata": {},
     "output_type": "display_data"
    }
   ],
   "source": [
    "testhourly = hr_elec.iloc[-120:]\n",
    "plt.figure(figsize=(20, 10))\n",
    "plt.plot(testhourly[\"MWH.1\"], linewidth=5)\n",
    "plt.ylabel(\"Projected Load (MWH)\", size=20)"
   ]
  },
  {
   "cell_type": "code",
   "execution_count": null,
   "metadata": {
    "collapsed": true
   },
   "outputs": [],
   "source": [
    "forecast = pd.read_csv(\"forecast.csv\")\n",
    "forecast.BeginDate = pd.to_datetime(forecast.BeginDate)"
   ]
  },
  {
   "cell_type": "code",
   "execution_count": 30,
   "metadata": {
    "collapsed": false
   },
   "outputs": [
    {
     "name": "stdout",
     "output_type": "stream",
     "text": [
      "Variance Score: 0.73\n"
     ]
    },
    {
     "data": {
      "image/png": "[encoded data removed]",
      "text/plain": [
       "<matplotlib.figure.Figure at 0x10a329a90>"
      ]
     },
     "metadata": {},
     "output_type": "display_data"
    }
   ],
   "source": [
    "model = Pipeline([('poly', PolynomialFeatures(degree=3)),\n",
    "                  ('linear', LinearRegression(fit_intercept=False))])\n",
    "model.fit(dayT, dayMWH)\n",
    "\n",
    "print('Variance Score: %.2f' % model.score(dayT, dayMWH))\n",
    "\n",
    "fn = lambda x: model.predict(x)[0]\n",
    "plot_regression(fn)"
   ]
  },
  {
   "cell_type": "markdown",
   "metadata": {},
   "source": [
    "# Locational Marginal Pricing"
   ]
  },
  {
   "cell_type": "code",
   "execution_count": 241,
   "metadata": {
    "collapsed": false
   },
   "outputs": [
    {
     "data": {
      "text/html": [
       "<div>\n",
       "<table border=\"1\" class=\"dataframe\">\n",
       "  <thead>\n",
       "    <tr style=\"text-align: right;\">\n",
       "      <th></th>\n",
       "      <th>H</th>\n",
       "      <th>Date</th>\n",
       "      <th>Hour Ending</th>\n",
       "      <th>Location ID</th>\n",
       "      <th>Location Name</th>\n",
       "      <th>Location Type</th>\n",
       "      <th>Locational Marginal Price</th>\n",
       "      <th>Energy Component</th>\n",
       "      <th>Congestion Component</th>\n",
       "      <th>Marginal Loss Component</th>\n",
       "      <th>Locational Marginal Price.1</th>\n",
       "      <th>Energy Component.1</th>\n",
       "      <th>Congestion Component.1</th>\n",
       "      <th>Marginal Loss Component.1</th>\n",
       "    </tr>\n",
       "  </thead>\n",
       "  <tbody>\n",
       "    <tr>\n",
       "      <th>1076</th>\n",
       "      <td>D</td>\n",
       "      <td>02/14/2015</td>\n",
       "      <td>20</td>\n",
       "      <td>4008</td>\n",
       "      <td>.Z.NEMASSBOST</td>\n",
       "      <td>LOAD ZONE</td>\n",
       "      <td>154.65</td>\n",
       "      <td>152.63</td>\n",
       "      <td>0</td>\n",
       "      <td>2.02</td>\n",
       "      <td>186.29</td>\n",
       "      <td>182.46</td>\n",
       "      <td>0</td>\n",
       "      <td>3.83</td>\n",
       "    </tr>\n",
       "    <tr>\n",
       "      <th>1077</th>\n",
       "      <td>D</td>\n",
       "      <td>02/14/2015</td>\n",
       "      <td>21</td>\n",
       "      <td>4008</td>\n",
       "      <td>.Z.NEMASSBOST</td>\n",
       "      <td>LOAD ZONE</td>\n",
       "      <td>154.33</td>\n",
       "      <td>152.40</td>\n",
       "      <td>0</td>\n",
       "      <td>1.93</td>\n",
       "      <td>195.78</td>\n",
       "      <td>192.29</td>\n",
       "      <td>0</td>\n",
       "      <td>3.49</td>\n",
       "    </tr>\n",
       "    <tr>\n",
       "      <th>1078</th>\n",
       "      <td>D</td>\n",
       "      <td>02/14/2015</td>\n",
       "      <td>22</td>\n",
       "      <td>4008</td>\n",
       "      <td>.Z.NEMASSBOST</td>\n",
       "      <td>LOAD ZONE</td>\n",
       "      <td>149.12</td>\n",
       "      <td>147.11</td>\n",
       "      <td>0</td>\n",
       "      <td>2.01</td>\n",
       "      <td>198.50</td>\n",
       "      <td>194.96</td>\n",
       "      <td>0</td>\n",
       "      <td>3.54</td>\n",
       "    </tr>\n",
       "    <tr>\n",
       "      <th>1079</th>\n",
       "      <td>D</td>\n",
       "      <td>02/14/2015</td>\n",
       "      <td>23</td>\n",
       "      <td>4008</td>\n",
       "      <td>.Z.NEMASSBOST</td>\n",
       "      <td>LOAD ZONE</td>\n",
       "      <td>133.93</td>\n",
       "      <td>132.15</td>\n",
       "      <td>0</td>\n",
       "      <td>1.78</td>\n",
       "      <td>154.84</td>\n",
       "      <td>152.12</td>\n",
       "      <td>0</td>\n",
       "      <td>2.72</td>\n",
       "    </tr>\n",
       "    <tr>\n",
       "      <th>1080</th>\n",
       "      <td>D</td>\n",
       "      <td>02/14/2015</td>\n",
       "      <td>24</td>\n",
       "      <td>4008</td>\n",
       "      <td>.Z.NEMASSBOST</td>\n",
       "      <td>LOAD ZONE</td>\n",
       "      <td>126.70</td>\n",
       "      <td>125.10</td>\n",
       "      <td>0</td>\n",
       "      <td>1.60</td>\n",
       "      <td>134.86</td>\n",
       "      <td>132.63</td>\n",
       "      <td>0</td>\n",
       "      <td>2.23</td>\n",
       "    </tr>\n",
       "  </tbody>\n",
       "</table>\n",
       "</div>"
      ],
      "text/plain": [
       "      H        Date  Hour Ending  Location ID  Location Name Location Type  \\\n",
       "1076  D  02/14/2015           20         4008  .Z.NEMASSBOST     LOAD ZONE   \n",
       "1077  D  02/14/2015           21         4008  .Z.NEMASSBOST     LOAD ZONE   \n",
       "1078  D  02/14/2015           22         4008  .Z.NEMASSBOST     LOAD ZONE   \n",
       "1079  D  02/14/2015           23         4008  .Z.NEMASSBOST     LOAD ZONE   \n",
       "1080  D  02/14/2015           24         4008  .Z.NEMASSBOST     LOAD ZONE   \n",
       "\n",
       "      Locational Marginal Price  Energy Component  Congestion Component  \\\n",
       "1076                     154.65            152.63                     0   \n",
       "1077                     154.33            152.40                     0   \n",
       "1078                     149.12            147.11                     0   \n",
       "1079                     133.93            132.15                     0   \n",
       "1080                     126.70            125.10                     0   \n",
       "\n",
       "      Marginal Loss Component  Locational Marginal Price.1  \\\n",
       "1076                     2.02                       186.29   \n",
       "1077                     1.93                       195.78   \n",
       "1078                     2.01                       198.50   \n",
       "1079                     1.78                       154.84   \n",
       "1080                     1.60                       134.86   \n",
       "\n",
       "      Energy Component.1  Congestion Component.1  Marginal Loss Component.1  \n",
       "1076              182.46                       0                       3.83  \n",
       "1077              192.29                       0                       3.49  \n",
       "1078              194.96                       0                       3.54  \n",
       "1079              152.12                       0                       2.72  \n",
       "1080              132.63                       0                       2.23  "
      ]
     },
     "execution_count": 241,
     "metadata": {},
     "output_type": "execute_result"
    }
   ],
   "source": [
    "def load_lmp():\n",
    "    lmp = pd.read_csv(\"/Users/travisknop/Downloads/da_rt_lmp_4008_20150101_20150214.csv\", header=6)\n",
    "    lmp = lmp.convert_objects(convert_numeric=True)\n",
    "    lmp = lmp.dropna(axis=0, thresh=3)\n",
    "    return lmp\n",
    "\n",
    "lmp = load_lmp()\n",
    "lmp.tail()"
   ]
  },
  {
   "cell_type": "code",
   "execution_count": null,
   "metadata": {
    "collapsed": false
   },
   "outputs": [],
   "source": [
    "def arrayed_data(x):\n",
    "    output = np.asarray(x)\n",
    "    return output\n",
    "\n",
    "lmp1 = arrayed_data(lmp[\"Locational Marginal Price.1\"])\n",
    "lmp2 = arrayed_data(lmp[\"Locational Marginal Price\"])\n"
   ]
  },
  {
   "cell_type": "code",
   "execution_count": null,
   "metadata": {
    "collapsed": false
   },
   "outputs": [],
   "source": [
    "plt.figure(figsize=(20, 10))\n",
    "plt.scatter(lmp2, dem3)\n",
    "plt.ylabel(\"Projected Load (MW)\", size=40)\n",
    "plt.xlabel(\"Time\", size=40)\n",
    "plt.title(\"Four Day Load Forecast\", size=60)"
   ]
  },
  {
   "cell_type": "code",
   "execution_count": null,
   "metadata": {
    "collapsed": false
   },
   "outputs": [],
   "source": [
    "len(lmp1)"
   ]
  },
  {
   "cell_type": "code",
   "execution_count": null,
   "metadata": {
    "collapsed": false
   },
   "outputs": [],
   "source": [
    "dem = hr_elec.set_index(\"Date\")\n",
    "dem2 = dem[\"MWH.1\"][35100:36182]"
   ]
  },
  {
   "cell_type": "code",
   "execution_count": null,
   "metadata": {
    "collapsed": false
   },
   "outputs": [],
   "source": [
    "dem3 = arrayed_data(dem2)"
   ]
  },
  {
   "cell_type": "markdown",
   "metadata": {},
   "source": [
    "# Natural Gas"
   ]
  },
  {
   "cell_type": "code",
   "execution_count": null,
   "metadata": {
    "collapsed": false
   },
   "outputs": [],
   "source": [
    "def load_gas():\n",
    "    gas15 = pd.read_csv(\"ice_natgas-2015b.csv\").iloc[:227]\n",
    "    gas14 = pd.read_csv(\"ice_natgas-2014final.csv\").iloc[:200]\n",
    "    gas14['Daily volume MMBtu'] = gas14['Daily volume MMBtu'].str.replace(',', '')    \n",
    "    gas = pd.concat([gas14, gas15])\n",
    "    gas = gas.drop(gas.columns[10:], axis=1)\n",
    "    gas = gas.drop(gas.columns[3:6], axis=1)\n",
    "    gas = gas.drop(gas.columns[:2], axis=1)\n",
    "    gas[\"Delivery start date\"] = pd.to_datetime(gas[\"Delivery start date\"])\n",
    "    gas = gas.set_index(\"Delivery start date\")\n",
    "    gas = gas.applymap(float)\n",
    "    return gas\n",
    "\n",
    "gas = load_gas()\n",
    "gas.info()\n"
   ]
  },
  {
   "cell_type": "markdown",
   "metadata": {},
   "source": [
    "# Locational Marginal Price"
   ]
  },
  {
   "cell_type": "code",
   "execution_count": 243,
   "metadata": {
    "collapsed": false
   },
   "outputs": [
    {
     "ename": "CParserError",
     "evalue": "Error tokenizing data. C error: Expected 2 fields in line 5, saw 10\n",
     "output_type": "error",
     "traceback": [
      "\u001b[0;31m---------------------------------------------------------------------------\u001b[0m",
      "\u001b[0;31mCParserError\u001b[0m                              Traceback (most recent call last)",
      "\u001b[0;32m<ipython-input-243-3c730a567c96>\u001b[0m in \u001b[0;36m<module>\u001b[0;34m()\u001b[0m\n\u001b[1;32m      1\u001b[0m lmp_list_of_files = [\n\u001b[0;32m----> 2\u001b[0;31m     \u001b[0mpd\u001b[0m\u001b[0;34m.\u001b[0m\u001b[0mread_csv\u001b[0m\u001b[0;34m(\u001b[0m\u001b[0;34m\"~/Downloads/New Folder With Items 2/lmp_rt_final_4008_20110101_20110214.csv\"\u001b[0m\u001b[0;34m)\u001b[0m\u001b[0;34m,\u001b[0m\u001b[0;34m\u001b[0m\u001b[0m\n\u001b[0m\u001b[1;32m      3\u001b[0m     \u001b[0mpd\u001b[0m\u001b[0;34m.\u001b[0m\u001b[0mread_csv\u001b[0m\u001b[0;34m(\u001b[0m\u001b[0;34m\"~/Downloads/New Folder With Items 2/lmp_rt_final_4008_20110215_20110331.csv\"\u001b[0m\u001b[0;34m)\u001b[0m\u001b[0;34m,\u001b[0m\u001b[0;34m\u001b[0m\u001b[0m\n\u001b[1;32m      4\u001b[0m     \u001b[0mpd\u001b[0m\u001b[0;34m.\u001b[0m\u001b[0mread_csv\u001b[0m\u001b[0;34m(\u001b[0m\u001b[0;34m\"~/Downloads/New Folder With Items 2/lmp_rt_final_4008_20110401_20110515.csv\"\u001b[0m\u001b[0;34m)\u001b[0m\u001b[0;34m,\u001b[0m\u001b[0;34m\u001b[0m\u001b[0m\n\u001b[1;32m      5\u001b[0m     \u001b[0mpd\u001b[0m\u001b[0;34m.\u001b[0m\u001b[0mread_csv\u001b[0m\u001b[0;34m(\u001b[0m\u001b[0;34m\"~/Downloads/New Folder With Items 2/lmp_rt_final_4008_20110516_20110629.csv\"\u001b[0m\u001b[0;34m)\u001b[0m\u001b[0;34m,\u001b[0m\u001b[0;34m\u001b[0m\u001b[0m\n",
      "\u001b[0;32m/Users/travisknop/travis_python/.direnv/python-3.5.0/lib/python3.5/site-packages/pandas/io/parsers.py\u001b[0m in \u001b[0;36mparser_f\u001b[0;34m(filepath_or_buffer, sep, dialect, compression, doublequote, escapechar, quotechar, quoting, skipinitialspace, lineterminator, header, index_col, names, prefix, skiprows, skipfooter, skip_footer, na_values, na_fvalues, true_values, false_values, delimiter, converters, dtype, usecols, engine, delim_whitespace, as_recarray, na_filter, compact_ints, use_unsigned, low_memory, buffer_lines, warn_bad_lines, error_bad_lines, keep_default_na, thousands, comment, decimal, parse_dates, keep_date_col, dayfirst, date_parser, memory_map, float_precision, nrows, iterator, chunksize, verbose, encoding, squeeze, mangle_dupe_cols, tupleize_cols, infer_datetime_format, skip_blank_lines)\u001b[0m\n\u001b[1;32m    472\u001b[0m                     skip_blank_lines=skip_blank_lines)\n\u001b[1;32m    473\u001b[0m \u001b[0;34m\u001b[0m\u001b[0m\n\u001b[0;32m--> 474\u001b[0;31m         \u001b[0;32mreturn\u001b[0m \u001b[0m_read\u001b[0m\u001b[0;34m(\u001b[0m\u001b[0mfilepath_or_buffer\u001b[0m\u001b[0;34m,\u001b[0m \u001b[0mkwds\u001b[0m\u001b[0;34m)\u001b[0m\u001b[0;34m\u001b[0m\u001b[0m\n\u001b[0m\u001b[1;32m    475\u001b[0m \u001b[0;34m\u001b[0m\u001b[0m\n\u001b[1;32m    476\u001b[0m     \u001b[0mparser_f\u001b[0m\u001b[0;34m.\u001b[0m\u001b[0m__name__\u001b[0m \u001b[0;34m=\u001b[0m \u001b[0mname\u001b[0m\u001b[0;34m\u001b[0m\u001b[0m\n",
      "\u001b[0;32m/Users/travisknop/travis_python/.direnv/python-3.5.0/lib/python3.5/site-packages/pandas/io/parsers.py\u001b[0m in \u001b[0;36m_read\u001b[0;34m(filepath_or_buffer, kwds)\u001b[0m\n\u001b[1;32m    258\u001b[0m         \u001b[0;32mreturn\u001b[0m \u001b[0mparser\u001b[0m\u001b[0;34m\u001b[0m\u001b[0m\n\u001b[1;32m    259\u001b[0m \u001b[0;34m\u001b[0m\u001b[0m\n\u001b[0;32m--> 260\u001b[0;31m     \u001b[0;32mreturn\u001b[0m \u001b[0mparser\u001b[0m\u001b[0;34m.\u001b[0m\u001b[0mread\u001b[0m\u001b[0;34m(\u001b[0m\u001b[0;34m)\u001b[0m\u001b[0;34m\u001b[0m\u001b[0m\n\u001b[0m\u001b[1;32m    261\u001b[0m \u001b[0;34m\u001b[0m\u001b[0m\n\u001b[1;32m    262\u001b[0m _parser_defaults = {\n",
      "\u001b[0;32m/Users/travisknop/travis_python/.direnv/python-3.5.0/lib/python3.5/site-packages/pandas/io/parsers.py\u001b[0m in \u001b[0;36mread\u001b[0;34m(self, nrows)\u001b[0m\n\u001b[1;32m    719\u001b[0m                 \u001b[0;32mraise\u001b[0m \u001b[0mValueError\u001b[0m\u001b[0;34m(\u001b[0m\u001b[0;34m'skip_footer not supported for iteration'\u001b[0m\u001b[0;34m)\u001b[0m\u001b[0;34m\u001b[0m\u001b[0m\n\u001b[1;32m    720\u001b[0m \u001b[0;34m\u001b[0m\u001b[0m\n\u001b[0;32m--> 721\u001b[0;31m         \u001b[0mret\u001b[0m \u001b[0;34m=\u001b[0m \u001b[0mself\u001b[0m\u001b[0;34m.\u001b[0m\u001b[0m_engine\u001b[0m\u001b[0;34m.\u001b[0m\u001b[0mread\u001b[0m\u001b[0;34m(\u001b[0m\u001b[0mnrows\u001b[0m\u001b[0;34m)\u001b[0m\u001b[0;34m\u001b[0m\u001b[0m\n\u001b[0m\u001b[1;32m    722\u001b[0m \u001b[0;34m\u001b[0m\u001b[0m\n\u001b[1;32m    723\u001b[0m         \u001b[0;32mif\u001b[0m \u001b[0mself\u001b[0m\u001b[0;34m.\u001b[0m\u001b[0moptions\u001b[0m\u001b[0;34m.\u001b[0m\u001b[0mget\u001b[0m\u001b[0;34m(\u001b[0m\u001b[0;34m'as_recarray'\u001b[0m\u001b[0;34m)\u001b[0m\u001b[0;34m:\u001b[0m\u001b[0;34m\u001b[0m\u001b[0m\n",
      "\u001b[0;32m/Users/travisknop/travis_python/.direnv/python-3.5.0/lib/python3.5/site-packages/pandas/io/parsers.py\u001b[0m in \u001b[0;36mread\u001b[0;34m(self, nrows)\u001b[0m\n\u001b[1;32m   1168\u001b[0m \u001b[0;34m\u001b[0m\u001b[0m\n\u001b[1;32m   1169\u001b[0m         \u001b[0;32mtry\u001b[0m\u001b[0;34m:\u001b[0m\u001b[0;34m\u001b[0m\u001b[0m\n\u001b[0;32m-> 1170\u001b[0;31m             \u001b[0mdata\u001b[0m \u001b[0;34m=\u001b[0m \u001b[0mself\u001b[0m\u001b[0;34m.\u001b[0m\u001b[0m_reader\u001b[0m\u001b[0;34m.\u001b[0m\u001b[0mread\u001b[0m\u001b[0;34m(\u001b[0m\u001b[0mnrows\u001b[0m\u001b[0;34m)\u001b[0m\u001b[0;34m\u001b[0m\u001b[0m\n\u001b[0m\u001b[1;32m   1171\u001b[0m         \u001b[0;32mexcept\u001b[0m \u001b[0mStopIteration\u001b[0m\u001b[0;34m:\u001b[0m\u001b[0;34m\u001b[0m\u001b[0m\n\u001b[1;32m   1172\u001b[0m             \u001b[0;32mif\u001b[0m \u001b[0mnrows\u001b[0m \u001b[0;32mis\u001b[0m \u001b[0;32mNone\u001b[0m\u001b[0;34m:\u001b[0m\u001b[0;34m\u001b[0m\u001b[0m\n",
      "\u001b[0;32mpandas/parser.pyx\u001b[0m in \u001b[0;36mpandas.parser.TextReader.read (pandas/parser.c:7544)\u001b[0;34m()\u001b[0m\n",
      "\u001b[0;32mpandas/parser.pyx\u001b[0m in \u001b[0;36mpandas.parser.TextReader._read_low_memory (pandas/parser.c:7784)\u001b[0;34m()\u001b[0m\n",
      "\u001b[0;32mpandas/parser.pyx\u001b[0m in \u001b[0;36mpandas.parser.TextReader._read_rows (pandas/parser.c:8401)\u001b[0;34m()\u001b[0m\n",
      "\u001b[0;32mpandas/parser.pyx\u001b[0m in \u001b[0;36mpandas.parser.TextReader._tokenize_rows (pandas/parser.c:8275)\u001b[0;34m()\u001b[0m\n",
      "\u001b[0;32mpandas/parser.pyx\u001b[0m in \u001b[0;36mpandas.parser.raise_parser_error (pandas/parser.c:20691)\u001b[0;34m()\u001b[0m\n",
      "\u001b[0;31mCParserError\u001b[0m: Error tokenizing data. C error: Expected 2 fields in line 5, saw 10\n"
     ]
    }
   ],
   "source": [
    "lmp_list_of_files = [\n",
    "    pd.read_csv(\"~/Downloads/New Folder With Items 2/lmp_rt_final_4008_20110101_20110214.csv\"),\n",
    "    pd.read_csv(\"~/Downloads/New Folder With Items 2/lmp_rt_final_4008_20110215_20110331.csv\"),\n",
    "    pd.read_csv(\"~/Downloads/New Folder With Items 2/lmp_rt_final_4008_20110401_20110515.csv\"),\n",
    "    pd.read_csv(\"~/Downloads/New Folder With Items 2/lmp_rt_final_4008_20110516_20110629.csv\"),\n",
    "    pd.read_csv(\"~/Downloads/New Folder With Items 2/lmp_rt_final_4008_20110630_20110813.csv\"),\n",
    "    pd.read_csv(\"~/Downloads/New Folder With Items 2/lmp_rt_final_4008_20110814_20110927.csv\"),\n",
    "    pd.read_csv(\"~/Downloads/New Folder With Items 2/lmp_rt_final_4008_20110928_20111110.csv\"),\n",
    "    pd.read_csv(\"~/Downloads/New Folder With Items 2/lmp_rt_final_4008_20111111_20111225.csv\"),\n",
    "    pd.read_csv(\"~/Downloads/New Folder With Items 2/lmp_rt_final_4008_20111226_20120208.csv\"),\n",
    "    pd.read_csv(\"~/Downloads/New Folder With Items 2/lmp_rt_final_4008_20120209_20120324.csv\"),\n",
    "    pd.read_csv(\"~/Downloads/New Folder With Items 2/lmp_rt_final_4008_20120325_20120508.csv\"),\n",
    "    pd.read_csv(\"~/Downloads/New Folder With Items 2/lmp_rt_final_4008_20120509_20120622.csv\"),\n",
    "    pd.read_csv(\"~/Downloads/New Folder With Items 2/lmp_rt_final_4008_20120623_20120806.csv\"),\n",
    "    pd.read_csv(\"~/Downloads/New Folder With Items 2/lmp_rt_final_4008_20120807_20120920.csv\"),\n",
    "    pd.read_csv(\"~/Downloads/New Folder With Items 2/lmp_rt_final_4008_20120921_20121104.csv\"),\n",
    "    pd.read_csv(\"~/Downloads/New Folder With Items 2/lmp_rt_final_4008_20121105_20121219.csv\"),\n",
    "    pd.read_csv(\"~/Downloads/New Folder With Items 2/lmp_rt_final_4008_20121220_20130202.csv\"),\n",
    "    pd.read_csv(\"~/Downloads/New Folder With Items 2/lmp_rt_final_4008_20130203_20130319.csv\"),\n",
    "    pd.read_csv(\"~/Downloads/New Folder With Items 2/lmp_rt_final_4008_20130320_20130503.csv\"),\n",
    "    pd.read_csv(\"~/Downloads/New Folder With Items 2/lmp_rt_final_4008_20130504_20130617.csv\"),\n",
    "    pd.read_csv(\"~/Downloads/New Folder With Items 2/lmp_rt_final_4008_20130618_20130801.csv\"),\n",
    "    pd.read_csv(\"~/Downloads/New Folder With Items 2/lmp_rt_final_4008_20130802_20130915.csv\"),\n",
    "    pd.read_csv(\"~/Downloads/New Folder With Items 2/lmp_rt_final_4008_20130916_20131030.csv\"),\n",
    "    pd.read_csv(\"~/Downloads/New Folder With Items 2/lmp_rt_final_4008_20131031_20131213.csv\"),\n",
    "    pd.read_csv(\"~/Downloads/New Folder With Items 2/lmp_rt_final_4008_20131214_20140127.csv\"),\n",
    "    pd.read_csv(\"~/Downloads/New Folder With Items 2/lmp_rt_final_4008_20140128_20140313.csv\"),\n",
    "    pd.read_csv(\"~/Downloads/New Folder With Items 2/lmp_rt_final_4008_20140314_20140427.csv\"),\n",
    "    pd.read_csv(\"~/Downloads/New Folder With Items 2/lmp_rt_final_4008_20140428_20140611.csv\"),\n",
    "    pd.read_csv(\"~/Downloads/New Folder With Items 2/lmp_rt_final_4008_20140612_20140726.csv\"),\n",
    "    pd.read_csv(\"~/Downloads/New Folder With Items 2/lmp_rt_final_4008_20140727_20140909.csv\"),\n",
    "    pd.read_csv(\"~/Downloads/New Folder With Items 2/lmp_rt_final_4008_20140910_20141024.csv\"),\n",
    "    pd.read_csv(\"~/Downloads/New Folder With Items 2/lmp_rt_final_4008_20141025_20141207.csv\"),\n",
    "    pd.read_csv(\"~/Downloads/New Folder With Items 2/lmp_rt_final_4008_20141208_20150121.csv\"),\n",
    "    pd.read_csv(\"~/Downloads/New Folder With Items 2/lmp_rt_final_4008_20150101_20150131.csv\"),\n",
    "    pd.read_csv(\"~/Downloads/New Folder With Items 2/lmp_rt_final_4008_20150122_20150307.csv\"),\n",
    "    pd.read_csv(\"~/Downloads/New Folder With Items 2/lmp_rt_final_4008_20150308_20150421.csv\"),\n",
    "    pd.read_csv(\"~/Downloads/New Folder With Items 2/lmp_rt_final_4008_20150422_20150605.csv\"),\n",
    "    pd.read_csv(\"~/Downloads/New Folder With Items 2/lmp_rt_final_4008_20150606_20150720.csv\"),\n",
    "    pd.read_csv(\"~/Downloads/New Folder With Items 2/lmp_rt_final_4008_20150721_20150903.csv\"),\n",
    "    pd.read_csv(\"~/Downloads/New Folder With Items 2/lmp_rt_final_4008_20150904_20151018.csv\"),\n",
    "    pd.read_csv(\"~/Downloads/New Folder With Items 2/lmp_rt_final_4008_20151019_20151201.csv\"),\n",
    "    ]"
   ]
  },
  {
   "cell_type": "code",
   "execution_count": null,
   "metadata": {
    "collapsed": false
   },
   "outputs": [],
   "source": [
    "def load_lmp():\n",
    "    list = []\n",
    "    for file in lmp_list_of_files:\n",
    "        list.append\n",
    "    output = pd.concat(lmp_list_of_files)\n",
    "    return output\n",
    "\n",
    "lmp = load_lmp()\n",
    "lmp.head()\n",
    "        "
   ]
  },
  {
   "cell_type": "code",
   "execution_count": 255,
   "metadata": {
    "collapsed": true
   },
   "outputs": [],
   "source": [
    "lmp_list_of_files = [\n",
    "    \"~/Downloads/New Folder With Items 2/lmp_rt_final_4008_20110101_20110214.csv\",\n",
    "    \"~/Downloads/New Folder With Items 2/lmp_rt_final_4008_20110215_20110331.csv\",\n",
    "    \"~/Downloads/New Folder With Items 2/lmp_rt_final_4008_20110401_20110515.csv\",\n",
    "    \"~/Downloads/New Folder With Items 2/lmp_rt_final_4008_20110516_20110629.csv\",\n",
    "    \"~/Downloads/New Folder With Items 2/lmp_rt_final_4008_20110630_20110813.csv\",\n",
    "    \"~/Downloads/New Folder With Items 2/lmp_rt_final_4008_20110814_20110927.csv\",\n",
    "    \"~/Downloads/New Folder With Items 2/lmp_rt_final_4008_20110928_20111110.csv\",\n",
    "    \"~/Downloads/New Folder With Items 2/lmp_rt_final_4008_20111111_20111225.csv\",\n",
    "    \"~/Downloads/New Folder With Items 2/lmp_rt_final_4008_20111226_20120208.csv\",\n",
    "    \"~/Downloads/New Folder With Items 2/lmp_rt_final_4008_20120209_20120324.csv\",\n",
    "    \"~/Downloads/New Folder With Items 2/lmp_rt_final_4008_20120325_20120508.csv\",\n",
    "    \"~/Downloads/New Folder With Items 2/lmp_rt_final_4008_20120509_20120622.csv\",\n",
    "    \"~/Downloads/New Folder With Items 2/lmp_rt_final_4008_20120623_20120806.csv\",\n",
    "    \"~/Downloads/New Folder With Items 2/lmp_rt_final_4008_20120807_20120920.csv\",\n",
    "    \"~/Downloads/New Folder With Items 2/lmp_rt_final_4008_20120921_20121104.csv\",\n",
    "    \"~/Downloads/New Folder With Items 2/lmp_rt_final_4008_20121105_20121219.csv\",\n",
    "    \"~/Downloads/New Folder With Items 2/lmp_rt_final_4008_20121220_20130202.csv\",\n",
    "    \"~/Downloads/New Folder With Items 2/lmp_rt_final_4008_20130203_20130319.csv\",\n",
    "    \"~/Downloads/New Folder With Items 2/lmp_rt_final_4008_20130320_20130503.csv\",\n",
    "    \"~/Downloads/New Folder With Items 2/lmp_rt_final_4008_20130504_20130617.csv\",\n",
    "    \"~/Downloads/New Folder With Items 2/lmp_rt_final_4008_20130618_20130801.csv\",\n",
    "    \"~/Downloads/New Folder With Items 2/lmp_rt_final_4008_20130802_20130915.csv\",\n",
    "    \"~/Downloads/New Folder With Items 2/lmp_rt_final_4008_20130916_20131030.csv\",\n",
    "    \"~/Downloads/New Folder With Items 2/lmp_rt_final_4008_20131031_20131213.csv\",\n",
    "    \"~/Downloads/New Folder With Items 2/lmp_rt_final_4008_20131214_20140127.csv\",\n",
    "    \"~/Downloads/New Folder With Items 2/lmp_rt_final_4008_20140128_20140313.csv\",\n",
    "    \"~/Downloads/New Folder With Items 2/lmp_rt_final_4008_20140314_20140427.csv\",\n",
    "    \"~/Downloads/New Folder With Items 2/lmp_rt_final_4008_20140428_20140611.csv\",\n",
    "    \"~/Downloads/New Folder With Items 2/lmp_rt_final_4008_20140612_20140726.csv\",\n",
    "    \"~/Downloads/New Folder With Items 2/lmp_rt_final_4008_20140727_20140909.csv\",\n",
    "    \"~/Downloads/New Folder With Items 2/lmp_rt_final_4008_20140910_20141024.csv\",\n",
    "    \"~/Downloads/New Folder With Items 2/lmp_rt_final_4008_20141025_20141207.csv\",\n",
    "    \"~/Downloads/New Folder With Items 2/lmp_rt_final_4008_20141208_20150121.csv\",\n",
    "    \"~/Downloads/New Folder With Items 2/lmp_rt_final_4008_20150101_20150131.csv\",\n",
    "    \"~/Downloads/New Folder With Items 2/lmp_rt_final_4008_20150122_20150307.csv\",\n",
    "    \"~/Downloads/New Folder With Items 2/lmp_rt_final_4008_20150308_20150421.csv\",\n",
    "    \"~/Downloads/New Folder With Items 2/lmp_rt_final_4008_20150422_20150605.csv\",\n",
    "    \"~/Downloads/New Folder With Items 2/lmp_rt_final_4008_20150606_20150720.csv\",\n",
    "    \"~/Downloads/New Folder With Items 2/lmp_rt_final_4008_20150721_20150903.csv\",\n",
    "    \"~/Downloads/New Folder With Items 2/lmp_rt_final_4008_20150904_20151018.csv\",\n",
    "    \"~/Downloads/New Folder With Items 2/lmp_rt_final_4008_20151019_20151201.csv\",\n",
    "    ]"
   ]
  },
  {
   "cell_type": "code",
   "execution_count": 256,
   "metadata": {
    "collapsed": false
   },
   "outputs": [
    {
     "ename": "ValueError",
     "evalue": "All objects passed were None",
     "output_type": "error",
     "traceback": [
      "\u001b[0;31m---------------------------------------------------------------------------\u001b[0m",
      "\u001b[0;31mValueError\u001b[0m                                Traceback (most recent call last)",
      "\u001b[0;32m<ipython-input-256-48f4a2b8d05f>\u001b[0m in \u001b[0;36m<module>\u001b[0;34m()\u001b[0m\n\u001b[1;32m      3\u001b[0m \u001b[0;32mfor\u001b[0m \u001b[0mx\u001b[0m \u001b[0;32min\u001b[0m \u001b[0mlmp_list_of_files\u001b[0m\u001b[0;34m:\u001b[0m\u001b[0;34m\u001b[0m\u001b[0m\n\u001b[1;32m      4\u001b[0m     \u001b[0maddon\u001b[0m \u001b[0;34m=\u001b[0m \u001b[0mpd\u001b[0m\u001b[0;34m.\u001b[0m\u001b[0mread_csv\u001b[0m\u001b[0;34m(\u001b[0m\u001b[0mx\u001b[0m\u001b[0;34m,\u001b[0m \u001b[0mheader\u001b[0m\u001b[0;34m=\u001b[0m\u001b[0;36m6\u001b[0m\u001b[0;34m)\u001b[0m\u001b[0;34m\u001b[0m\u001b[0m\n\u001b[0;32m----> 5\u001b[0;31m     \u001b[0mpd\u001b[0m\u001b[0;34m.\u001b[0m\u001b[0mconcat\u001b[0m\u001b[0;34m(\u001b[0m\u001b[0mlmp_df\u001b[0m\u001b[0;34m,\u001b[0m \u001b[0maddon\u001b[0m\u001b[0;34m)\u001b[0m\u001b[0;34m\u001b[0m\u001b[0m\n\u001b[0m\u001b[1;32m      6\u001b[0m \u001b[0;34m\u001b[0m\u001b[0m\n\u001b[1;32m      7\u001b[0m \u001b[0mlmp_df\u001b[0m\u001b[0;34m.\u001b[0m\u001b[0mhead\u001b[0m\u001b[0;34m(\u001b[0m\u001b[0;34m)\u001b[0m\u001b[0;34m\u001b[0m\u001b[0m\n",
      "\u001b[0;32m/Users/travisknop/travis_python/.direnv/python-3.5.0/lib/python3.5/site-packages/pandas/tools/merge.py\u001b[0m in \u001b[0;36mconcat\u001b[0;34m(objs, axis, join, join_axes, ignore_index, keys, levels, names, verify_integrity, copy)\u001b[0m\n\u001b[1;32m    752\u001b[0m                        \u001b[0mkeys\u001b[0m\u001b[0;34m=\u001b[0m\u001b[0mkeys\u001b[0m\u001b[0;34m,\u001b[0m \u001b[0mlevels\u001b[0m\u001b[0;34m=\u001b[0m\u001b[0mlevels\u001b[0m\u001b[0;34m,\u001b[0m \u001b[0mnames\u001b[0m\u001b[0;34m=\u001b[0m\u001b[0mnames\u001b[0m\u001b[0;34m,\u001b[0m\u001b[0;34m\u001b[0m\u001b[0m\n\u001b[1;32m    753\u001b[0m                        \u001b[0mverify_integrity\u001b[0m\u001b[0;34m=\u001b[0m\u001b[0mverify_integrity\u001b[0m\u001b[0;34m,\u001b[0m\u001b[0;34m\u001b[0m\u001b[0m\n\u001b[0;32m--> 754\u001b[0;31m                        copy=copy)\n\u001b[0m\u001b[1;32m    755\u001b[0m     \u001b[0;32mreturn\u001b[0m \u001b[0mop\u001b[0m\u001b[0;34m.\u001b[0m\u001b[0mget_result\u001b[0m\u001b[0;34m(\u001b[0m\u001b[0;34m)\u001b[0m\u001b[0;34m\u001b[0m\u001b[0m\n\u001b[1;32m    756\u001b[0m \u001b[0;34m\u001b[0m\u001b[0m\n",
      "\u001b[0;32m/Users/travisknop/travis_python/.direnv/python-3.5.0/lib/python3.5/site-packages/pandas/tools/merge.py\u001b[0m in \u001b[0;36m__init__\u001b[0;34m(self, objs, axis, join, join_axes, keys, levels, names, ignore_index, verify_integrity, copy)\u001b[0m\n\u001b[1;32m    797\u001b[0m \u001b[0;34m\u001b[0m\u001b[0m\n\u001b[1;32m    798\u001b[0m         \u001b[0;32mif\u001b[0m \u001b[0mlen\u001b[0m\u001b[0;34m(\u001b[0m\u001b[0mobjs\u001b[0m\u001b[0;34m)\u001b[0m \u001b[0;34m==\u001b[0m \u001b[0;36m0\u001b[0m\u001b[0;34m:\u001b[0m\u001b[0;34m\u001b[0m\u001b[0m\n\u001b[0;32m--> 799\u001b[0;31m             \u001b[0;32mraise\u001b[0m \u001b[0mValueError\u001b[0m\u001b[0;34m(\u001b[0m\u001b[0;34m'All objects passed were None'\u001b[0m\u001b[0;34m)\u001b[0m\u001b[0;34m\u001b[0m\u001b[0m\n\u001b[0m\u001b[1;32m    800\u001b[0m \u001b[0;34m\u001b[0m\u001b[0m\n\u001b[1;32m    801\u001b[0m         \u001b[0;31m# consolidate data & figure out what our result ndim is going to be\u001b[0m\u001b[0;34m\u001b[0m\u001b[0;34m\u001b[0m\u001b[0m\n",
      "\u001b[0;31mValueError\u001b[0m: All objects passed were None"
     ]
    }
   ],
   "source": [
    "lmp_df = []\n",
    "\n",
    "for x in lmp_list_of_files:\n",
    "    addon = pd.read_csv(x, header=6)\n",
    "    pd.concat(lmp_df, addon)\n",
    "    \n",
    "lmp_df.head()"
   ]
  },
  {
   "cell_type": "markdown",
   "metadata": {},
   "source": [
    "# Looking for patterns..."
   ]
  },
  {
   "cell_type": "code",
   "execution_count": 43,
   "metadata": {
    "collapsed": false
   },
   "outputs": [],
   "source": [
    "dependent_vars = list(dwc_elec.columns)\n",
    "#dependent_vars.remove('highT')\n",
    "#dependent_vars.remove('avgT')\n",
    "#dependent_vars.remove('lowT')\n",
    "dependent_vars.remove('MWH')\n",
    "dependent_vars.remove('MWH.1')\n",
    "#dependent_vars.remove('clim_high')\n",
    "#dependent_vars.remove('clim_avg')\n",
    "#dependent_vars.remove('clim_low')\n",
    "unos = list(itertools.combinations(dependent_vars, 1))\n",
    "duos = list(itertools.combinations(dependent_vars, 2))\n",
    "trios = list(itertools.combinations(dependent_vars, 3))\n",
    "quadros = list(itertools.combinations(dependent_vars, 4))"
   ]
  },
  {
   "cell_type": "code",
   "execution_count": 55,
   "metadata": {
    "collapsed": false
   },
   "outputs": [
    {
     "ename": "ValueError",
     "evalue": "Input contains NaN, infinity or a value too large for dtype('float64').",
     "output_type": "error",
     "traceback": [
      "\u001b[0;31m---------------------------------------------------------------------------\u001b[0m",
      "\u001b[0;31mValueError\u001b[0m                                Traceback (most recent call last)",
      "\u001b[0;32m<ipython-input-55-5d479fc2e140>\u001b[0m in \u001b[0;36m<module>\u001b[0;34m()\u001b[0m\n\u001b[1;32m     13\u001b[0m \u001b[0;34m\u001b[0m\u001b[0m\n\u001b[1;32m     14\u001b[0m \u001b[0;32mfor\u001b[0m \u001b[0mcombo\u001b[0m \u001b[0;32min\u001b[0m \u001b[0mquadros\u001b[0m\u001b[0;34m:\u001b[0m\u001b[0;34m\u001b[0m\u001b[0m\n\u001b[0;32m---> 15\u001b[0;31m     \u001b[0mregra\u001b[0m\u001b[0;34m,\u001b[0m \u001b[0mscore\u001b[0m \u001b[0;34m=\u001b[0m \u001b[0mregression_for\u001b[0m\u001b[0;34m(\u001b[0m\u001b[0mcombo\u001b[0m\u001b[0;34m)\u001b[0m\u001b[0;34m\u001b[0m\u001b[0m\n\u001b[0m\u001b[1;32m     16\u001b[0m     \u001b[0mchoices\u001b[0m\u001b[0;34m.\u001b[0m\u001b[0mappend\u001b[0m\u001b[0;34m(\u001b[0m\u001b[0;34m(\u001b[0m\u001b[0mcombo\u001b[0m\u001b[0;34m,\u001b[0m \u001b[0mscore\u001b[0m\u001b[0;34m)\u001b[0m\u001b[0;34m)\u001b[0m\u001b[0;34m\u001b[0m\u001b[0m\n\u001b[1;32m     17\u001b[0m \u001b[0;34m\u001b[0m\u001b[0m\n",
      "\u001b[0;32m<ipython-input-55-5d479fc2e140>\u001b[0m in \u001b[0;36mregression_for\u001b[0;34m(combo)\u001b[0m\n\u001b[1;32m      9\u001b[0m     regra = Pipeline([('poly', PolynomialFeatures(degree=3)),\n\u001b[1;32m     10\u001b[0m                   ('linear', LinearRegression(fit_intercept=False))])\n\u001b[0;32m---> 11\u001b[0;31m     \u001b[0mregra\u001b[0m\u001b[0;34m.\u001b[0m\u001b[0mfit\u001b[0m\u001b[0;34m(\u001b[0m\u001b[0minput_data\u001b[0m\u001b[0;34m,\u001b[0m \u001b[0mdemand\u001b[0m\u001b[0;34m)\u001b[0m\u001b[0;34m\u001b[0m\u001b[0m\n\u001b[0m\u001b[1;32m     12\u001b[0m     \u001b[0;32mreturn\u001b[0m \u001b[0mregra\u001b[0m\u001b[0;34m,\u001b[0m \u001b[0mregra\u001b[0m\u001b[0;34m.\u001b[0m\u001b[0mscore\u001b[0m\u001b[0;34m(\u001b[0m\u001b[0minput_data\u001b[0m\u001b[0;34m,\u001b[0m \u001b[0mdemand\u001b[0m\u001b[0;34m)\u001b[0m\u001b[0;34m\u001b[0m\u001b[0m\n\u001b[1;32m     13\u001b[0m \u001b[0;34m\u001b[0m\u001b[0m\n",
      "\u001b[0;32m/Users/travisknop/travis_python/.direnv/python-3.5.0/lib/python3.5/site-packages/sklearn/pipeline.py\u001b[0m in \u001b[0;36mfit\u001b[0;34m(self, X, y, **fit_params)\u001b[0m\n\u001b[1;32m    138\u001b[0m             \u001b[0mthe\u001b[0m \u001b[0mpipeline\u001b[0m\u001b[0;34m.\u001b[0m\u001b[0;34m\u001b[0m\u001b[0m\n\u001b[1;32m    139\u001b[0m         \"\"\"\n\u001b[0;32m--> 140\u001b[0;31m         \u001b[0mXt\u001b[0m\u001b[0;34m,\u001b[0m \u001b[0mfit_params\u001b[0m \u001b[0;34m=\u001b[0m \u001b[0mself\u001b[0m\u001b[0;34m.\u001b[0m\u001b[0m_pre_transform\u001b[0m\u001b[0;34m(\u001b[0m\u001b[0mX\u001b[0m\u001b[0;34m,\u001b[0m \u001b[0my\u001b[0m\u001b[0;34m,\u001b[0m \u001b[0;34m**\u001b[0m\u001b[0mfit_params\u001b[0m\u001b[0;34m)\u001b[0m\u001b[0;34m\u001b[0m\u001b[0m\n\u001b[0m\u001b[1;32m    141\u001b[0m         \u001b[0mself\u001b[0m\u001b[0;34m.\u001b[0m\u001b[0msteps\u001b[0m\u001b[0;34m[\u001b[0m\u001b[0;34m-\u001b[0m\u001b[0;36m1\u001b[0m\u001b[0;34m]\u001b[0m\u001b[0;34m[\u001b[0m\u001b[0;34m-\u001b[0m\u001b[0;36m1\u001b[0m\u001b[0;34m]\u001b[0m\u001b[0;34m.\u001b[0m\u001b[0mfit\u001b[0m\u001b[0;34m(\u001b[0m\u001b[0mXt\u001b[0m\u001b[0;34m,\u001b[0m \u001b[0my\u001b[0m\u001b[0;34m,\u001b[0m \u001b[0;34m**\u001b[0m\u001b[0mfit_params\u001b[0m\u001b[0;34m)\u001b[0m\u001b[0;34m\u001b[0m\u001b[0m\n\u001b[1;32m    142\u001b[0m         \u001b[0;32mreturn\u001b[0m \u001b[0mself\u001b[0m\u001b[0;34m\u001b[0m\u001b[0m\n",
      "\u001b[0;32m/Users/travisknop/travis_python/.direnv/python-3.5.0/lib/python3.5/site-packages/sklearn/pipeline.py\u001b[0m in \u001b[0;36m_pre_transform\u001b[0;34m(self, X, y, **fit_params)\u001b[0m\n\u001b[1;32m    119\u001b[0m         \u001b[0;32mfor\u001b[0m \u001b[0mname\u001b[0m\u001b[0;34m,\u001b[0m \u001b[0mtransform\u001b[0m \u001b[0;32min\u001b[0m \u001b[0mself\u001b[0m\u001b[0;34m.\u001b[0m\u001b[0msteps\u001b[0m\u001b[0;34m[\u001b[0m\u001b[0;34m:\u001b[0m\u001b[0;34m-\u001b[0m\u001b[0;36m1\u001b[0m\u001b[0;34m]\u001b[0m\u001b[0;34m:\u001b[0m\u001b[0;34m\u001b[0m\u001b[0m\n\u001b[1;32m    120\u001b[0m             \u001b[0;32mif\u001b[0m \u001b[0mhasattr\u001b[0m\u001b[0;34m(\u001b[0m\u001b[0mtransform\u001b[0m\u001b[0;34m,\u001b[0m \u001b[0;34m\"fit_transform\"\u001b[0m\u001b[0;34m)\u001b[0m\u001b[0;34m:\u001b[0m\u001b[0;34m\u001b[0m\u001b[0m\n\u001b[0;32m--> 121\u001b[0;31m                 \u001b[0mXt\u001b[0m \u001b[0;34m=\u001b[0m \u001b[0mtransform\u001b[0m\u001b[0;34m.\u001b[0m\u001b[0mfit_transform\u001b[0m\u001b[0;34m(\u001b[0m\u001b[0mXt\u001b[0m\u001b[0;34m,\u001b[0m \u001b[0my\u001b[0m\u001b[0;34m,\u001b[0m \u001b[0;34m**\u001b[0m\u001b[0mfit_params_steps\u001b[0m\u001b[0;34m[\u001b[0m\u001b[0mname\u001b[0m\u001b[0;34m]\u001b[0m\u001b[0;34m)\u001b[0m\u001b[0;34m\u001b[0m\u001b[0m\n\u001b[0m\u001b[1;32m    122\u001b[0m             \u001b[0;32melse\u001b[0m\u001b[0;34m:\u001b[0m\u001b[0;34m\u001b[0m\u001b[0m\n\u001b[1;32m    123\u001b[0m                 \u001b[0mXt\u001b[0m \u001b[0;34m=\u001b[0m \u001b[0mtransform\u001b[0m\u001b[0;34m.\u001b[0m\u001b[0mfit\u001b[0m\u001b[0;34m(\u001b[0m\u001b[0mXt\u001b[0m\u001b[0;34m,\u001b[0m \u001b[0my\u001b[0m\u001b[0;34m,\u001b[0m \u001b[0;34m**\u001b[0m\u001b[0mfit_params_steps\u001b[0m\u001b[0;34m[\u001b[0m\u001b[0mname\u001b[0m\u001b[0;34m]\u001b[0m\u001b[0;34m)\u001b[0m\u001b[0;31m \u001b[0m\u001b[0;31m\\\u001b[0m\u001b[0;34m\u001b[0m\u001b[0m\n",
      "\u001b[0;32m/Users/travisknop/travis_python/.direnv/python-3.5.0/lib/python3.5/site-packages/sklearn/base.py\u001b[0m in \u001b[0;36mfit_transform\u001b[0;34m(self, X, y, **fit_params)\u001b[0m\n\u001b[1;32m    434\u001b[0m         \u001b[0;32melse\u001b[0m\u001b[0;34m:\u001b[0m\u001b[0;34m\u001b[0m\u001b[0m\n\u001b[1;32m    435\u001b[0m             \u001b[0;31m# fit method of arity 2 (supervised transformation)\u001b[0m\u001b[0;34m\u001b[0m\u001b[0;34m\u001b[0m\u001b[0m\n\u001b[0;32m--> 436\u001b[0;31m             \u001b[0;32mreturn\u001b[0m \u001b[0mself\u001b[0m\u001b[0;34m.\u001b[0m\u001b[0mfit\u001b[0m\u001b[0;34m(\u001b[0m\u001b[0mX\u001b[0m\u001b[0;34m,\u001b[0m \u001b[0my\u001b[0m\u001b[0;34m,\u001b[0m \u001b[0;34m**\u001b[0m\u001b[0mfit_params\u001b[0m\u001b[0;34m)\u001b[0m\u001b[0;34m.\u001b[0m\u001b[0mtransform\u001b[0m\u001b[0;34m(\u001b[0m\u001b[0mX\u001b[0m\u001b[0;34m)\u001b[0m\u001b[0;34m\u001b[0m\u001b[0m\n\u001b[0m\u001b[1;32m    437\u001b[0m \u001b[0;34m\u001b[0m\u001b[0m\n\u001b[1;32m    438\u001b[0m \u001b[0;34m\u001b[0m\u001b[0m\n",
      "\u001b[0;32m/Users/travisknop/travis_python/.direnv/python-3.5.0/lib/python3.5/site-packages/sklearn/preprocessing/data.py\u001b[0m in \u001b[0;36mfit\u001b[0;34m(self, X, y)\u001b[0m\n\u001b[1;32m    519\u001b[0m         \u001b[0mCompute\u001b[0m \u001b[0mnumber\u001b[0m \u001b[0mof\u001b[0m \u001b[0moutput\u001b[0m \u001b[0mfeatures\u001b[0m\u001b[0;34m.\u001b[0m\u001b[0;34m\u001b[0m\u001b[0m\n\u001b[1;32m    520\u001b[0m         \"\"\"\n\u001b[0;32m--> 521\u001b[0;31m         \u001b[0mn_samples\u001b[0m\u001b[0;34m,\u001b[0m \u001b[0mn_features\u001b[0m \u001b[0;34m=\u001b[0m \u001b[0mcheck_array\u001b[0m\u001b[0;34m(\u001b[0m\u001b[0mX\u001b[0m\u001b[0;34m)\u001b[0m\u001b[0;34m.\u001b[0m\u001b[0mshape\u001b[0m\u001b[0;34m\u001b[0m\u001b[0m\n\u001b[0m\u001b[1;32m    522\u001b[0m         combinations = self._combinations(n_features, self.degree,\n\u001b[1;32m    523\u001b[0m                                           \u001b[0mself\u001b[0m\u001b[0;34m.\u001b[0m\u001b[0minteraction_only\u001b[0m\u001b[0;34m,\u001b[0m\u001b[0;34m\u001b[0m\u001b[0m\n",
      "\u001b[0;32m/Users/travisknop/travis_python/.direnv/python-3.5.0/lib/python3.5/site-packages/sklearn/utils/validation.py\u001b[0m in \u001b[0;36mcheck_array\u001b[0;34m(array, accept_sparse, dtype, order, copy, force_all_finite, ensure_2d, allow_nd, ensure_min_samples, ensure_min_features)\u001b[0m\n\u001b[1;32m    350\u001b[0m                              array.ndim)\n\u001b[1;32m    351\u001b[0m         \u001b[0;32mif\u001b[0m \u001b[0mforce_all_finite\u001b[0m\u001b[0;34m:\u001b[0m\u001b[0;34m\u001b[0m\u001b[0m\n\u001b[0;32m--> 352\u001b[0;31m             \u001b[0m_assert_all_finite\u001b[0m\u001b[0;34m(\u001b[0m\u001b[0marray\u001b[0m\u001b[0;34m)\u001b[0m\u001b[0;34m\u001b[0m\u001b[0m\n\u001b[0m\u001b[1;32m    353\u001b[0m \u001b[0;34m\u001b[0m\u001b[0m\n\u001b[1;32m    354\u001b[0m     \u001b[0mshape_repr\u001b[0m \u001b[0;34m=\u001b[0m \u001b[0m_shape_repr\u001b[0m\u001b[0;34m(\u001b[0m\u001b[0marray\u001b[0m\u001b[0;34m.\u001b[0m\u001b[0mshape\u001b[0m\u001b[0;34m)\u001b[0m\u001b[0;34m\u001b[0m\u001b[0m\n",
      "\u001b[0;32m/Users/travisknop/travis_python/.direnv/python-3.5.0/lib/python3.5/site-packages/sklearn/utils/validation.py\u001b[0m in \u001b[0;36m_assert_all_finite\u001b[0;34m(X)\u001b[0m\n\u001b[1;32m     50\u001b[0m             and not np.isfinite(X).all()):\n\u001b[1;32m     51\u001b[0m         raise ValueError(\"Input contains NaN, infinity\"\n\u001b[0;32m---> 52\u001b[0;31m                          \" or a value too large for %r.\" % X.dtype)\n\u001b[0m\u001b[1;32m     53\u001b[0m \u001b[0;34m\u001b[0m\u001b[0m\n\u001b[1;32m     54\u001b[0m \u001b[0;34m\u001b[0m\u001b[0m\n",
      "\u001b[0;31mValueError\u001b[0m: Input contains NaN, infinity or a value too large for dtype('float64')."
     ]
    }
   ],
   "source": [
    "choices = []\n",
    "\n",
    "def regression_for(combo):\n",
    "    combo = list(combo)\n",
    "    df = day_elec.loc[:, combo + ['MWH.1']]\n",
    "#    df.dropna(inplace=True)\n",
    "    input_data = df[combo]\n",
    "    demand = df['MWH.1']\n",
    "    regra = Pipeline([('poly', PolynomialFeatures(degree=3)),\n",
    "                  ('linear', LinearRegression(fit_intercept=False))])\n",
    "    regra.fit(input_data, demand)\n",
    "    return regra, regra.score(input_data, demand)\n",
    "\n",
    "for combo in quadros:\n",
    "    regra, score = regression_for(combo)\n",
    "    choices.append((combo, score))\n",
    "                   \n",
    "best = sorted(choices, key=lambda x: x[1])[-1]\n",
    "print(best)\n",
    "regra, score = regression_for(best[0])\n",
    "#print(regra.coef_, regra.intercept_)\n",
    "print(choices)"
   ]
  },
  {
   "cell_type": "code",
   "execution_count": null,
   "metadata": {
    "collapsed": false
   },
   "outputs": [],
   "source": [
    "def pipe_x_degrees(x, dv, iv):\n",
    "    for degree in range(x):\n",
    "        model = Pipeline([('poly', PolynomialFeatures(degree=degree)),\n",
    "                  ('linear', LinearRegression(fit_intercept=False))])\n",
    "        model.fit(dv, iv)\n",
    "        print(model.score(dv, iv))\n",
    "\n",
    "pipe_x_degrees(10, dayT, dayMWH)"
   ]
  },
  {
   "cell_type": "code",
   "execution_count": null,
   "metadata": {
    "collapsed": true
   },
   "outputs": [],
   "source": [
    "for combo in duos:\n",
    "    regra, score = regression_for(combo)\n",
    "    choices.append((combo, score))\n",
    "                   \n",
    "best = sorted(choices, key=lambda x: x[1])[-1]\n",
    "print(best)\n",
    "regra, score = regression_for(best[0])\n",
    "print(regra.coef_, regra.intercept_)\n",
    "print(choices)"
   ]
  },
  {
   "cell_type": "code",
   "execution_count": null,
   "metadata": {
    "collapsed": false
   },
   "outputs": [],
   "source": [
    "def pipe_it(dv, iv):\n",
    "    model = Pipeline([('poly', PolynomialFeatures(degree=3)),\n",
    "                  ('linear', LinearRegression(fit_intercept=False))])\n",
    "    model.fit(dv, iv)\n",
    "    print('Variance Score: %.2f' % model.score(dv, iv))\n",
    "    \n",
    "pipe_it(dayT, dayMWH)"
   ]
  },
  {
   "cell_type": "code",
   "execution_count": 46,
   "metadata": {
    "collapsed": false
   },
   "outputs": [],
   "source": [
    "dwc_elec[\"hdd_1_day_ago\"] = dwc_elec.hdd.shift(1)\n",
    "dwc_elec[\"hdd_2_days_ago\"] = dwc_elec.hdd.shift(2)\n",
    "dwc_elec[\"hdd_3_day_ago\"] = dwc_elec.hdd.shift(3)\n",
    "dwc_elec[\"hdd_tomorrow\"] = dwc_elec.hdd.shift(-1)\n",
    "dwc_elec[\"hdd_in_2_days\"] = dwc_elec.hdd.shift(-2)\n",
    "dwc_elec[\"hdd_in_3_days\"] = dwc_elec.hdd.shift(-3)\n",
    "dwc_elec[\"delta_t_since_yesterday\"] = dwc_elec.hdd - dwc_elec[\"hdd_1_day_ago\"]\n",
    "dwc_elec[\"delta_t_tomorrow\"] = dwc_elec[\"hdd_tomorrow\"] - dwc_elec.hdd\n",
    "dwc_elec[\"climate_deviation\"] = dwc_elec.avgT - dwc_elec.clim_avg"
   ]
  },
  {
   "cell_type": "code",
   "execution_count": 54,
   "metadata": {
    "collapsed": false
   },
   "outputs": [
    {
     "name": "stdout",
     "output_type": "stream",
     "text": [
      "<class 'pandas.core.frame.DataFrame'>\n",
      "DatetimeIndex: 1795 entries, 2011-01-04 to 2015-12-03\n",
      "Data columns (total 15 columns):\n",
      "avgH                       1795 non-null int64\n",
      "hdd                        1795 non-null float64\n",
      "MWH                        1795 non-null float64\n",
      "MWH.1                      1795 non-null float64\n",
      "day_of_year                1795 non-null int64\n",
      "clim_avg                   1795 non-null float64\n",
      "hdd_1_day_ago              1795 non-null float64\n",
      "hdd_2_days_ago             1795 non-null float64\n",
      "hdd_3_day_ago              1795 non-null float64\n",
      "hdd_tomorrow               1795 non-null float64\n",
      "hdd_in_2_days              1795 non-null float64\n",
      "hdd_in_3_days              1795 non-null float64\n",
      "delta_t_since_yesterday    1795 non-null float64\n",
      "delta_t_tomorrow           1795 non-null float64\n",
      "climate_deviation          1795 non-null float64\n",
      "dtypes: float64(13), int64(2)\n",
      "memory usage: 224.4 KB\n"
     ]
    }
   ],
   "source": [
    "day_elec = dwc_elec.dropna()\n",
    "day_elec = day_elec.drop(\"highT\", 1)\n",
    "day_elec = day_elec.drop(\"avgT\", 1)\n",
    "day_elec = day_elec.drop(\"lowT\", 1)\n",
    "day_elec = day_elec.drop(\"clim_high\", 1)\n",
    "day_elec = day_elec.drop(\"clim_low\", 1)\n",
    "day_elec.info()"
   ]
  },
  {
   "cell_type": "code",
   "execution_count": 53,
   "metadata": {
    "collapsed": false
   },
   "outputs": [
    {
     "data": {
      "text/html": [
       "<div>\n",
       "<table border=\"1\" class=\"dataframe\">\n",
       "  <thead>\n",
       "    <tr style=\"text-align: right;\">\n",
       "      <th></th>\n",
       "      <th>avgH</th>\n",
       "      <th>hdd</th>\n",
       "      <th>MWH</th>\n",
       "      <th>MWH.1</th>\n",
       "      <th>day_of_year</th>\n",
       "      <th>clim_avg</th>\n",
       "      <th>hdd_1_day_ago</th>\n",
       "      <th>hdd_2_days_ago</th>\n",
       "      <th>hdd_3_day_ago</th>\n",
       "      <th>hdd_tomorrow</th>\n",
       "      <th>hdd_in_2_days</th>\n",
       "      <th>hdd_in_3_days</th>\n",
       "      <th>delta_t_since_yesterday</th>\n",
       "      <th>delta_t_tomorrow</th>\n",
       "      <th>climate_deviation</th>\n",
       "    </tr>\n",
       "  </thead>\n",
       "  <tbody>\n",
       "    <tr>\n",
       "      <th>2011-01-04</th>\n",
       "      <td>52</td>\n",
       "      <td>33.0</td>\n",
       "      <td>73978.3</td>\n",
       "      <td>75228.5</td>\n",
       "      <td>3</td>\n",
       "      <td>30.2</td>\n",
       "      <td>31.2</td>\n",
       "      <td>20.4</td>\n",
       "      <td>18.6</td>\n",
       "      <td>31.2</td>\n",
       "      <td>38.4</td>\n",
       "      <td>36.6</td>\n",
       "      <td>1.8</td>\n",
       "      <td>-1.8</td>\n",
       "      <td>1.8</td>\n",
       "    </tr>\n",
       "    <tr>\n",
       "      <th>2011-01-05</th>\n",
       "      <td>49</td>\n",
       "      <td>31.2</td>\n",
       "      <td>73338.9</td>\n",
       "      <td>74949.4</td>\n",
       "      <td>4</td>\n",
       "      <td>30.1</td>\n",
       "      <td>33.0</td>\n",
       "      <td>31.2</td>\n",
       "      <td>20.4</td>\n",
       "      <td>38.4</td>\n",
       "      <td>36.6</td>\n",
       "      <td>34.8</td>\n",
       "      <td>-1.8</td>\n",
       "      <td>7.2</td>\n",
       "      <td>3.7</td>\n",
       "    </tr>\n",
       "    <tr>\n",
       "      <th>2011-01-06</th>\n",
       "      <td>49</td>\n",
       "      <td>38.4</td>\n",
       "      <td>74143.1</td>\n",
       "      <td>76520.0</td>\n",
       "      <td>5</td>\n",
       "      <td>29.9</td>\n",
       "      <td>31.2</td>\n",
       "      <td>33.0</td>\n",
       "      <td>31.2</td>\n",
       "      <td>36.6</td>\n",
       "      <td>34.8</td>\n",
       "      <td>34.8</td>\n",
       "      <td>7.2</td>\n",
       "      <td>-1.8</td>\n",
       "      <td>-3.3</td>\n",
       "    </tr>\n",
       "    <tr>\n",
       "      <th>2011-01-07</th>\n",
       "      <td>71</td>\n",
       "      <td>36.6</td>\n",
       "      <td>73205.6</td>\n",
       "      <td>76217.1</td>\n",
       "      <td>6</td>\n",
       "      <td>29.8</td>\n",
       "      <td>38.4</td>\n",
       "      <td>31.2</td>\n",
       "      <td>33.0</td>\n",
       "      <td>34.8</td>\n",
       "      <td>34.8</td>\n",
       "      <td>36.6</td>\n",
       "      <td>-1.8</td>\n",
       "      <td>-1.8</td>\n",
       "      <td>-1.4</td>\n",
       "    </tr>\n",
       "    <tr>\n",
       "      <th>2011-01-08</th>\n",
       "      <td>85</td>\n",
       "      <td>34.8</td>\n",
       "      <td>67992.7</td>\n",
       "      <td>70957.2</td>\n",
       "      <td>7</td>\n",
       "      <td>29.6</td>\n",
       "      <td>36.6</td>\n",
       "      <td>38.4</td>\n",
       "      <td>31.2</td>\n",
       "      <td>34.8</td>\n",
       "      <td>36.6</td>\n",
       "      <td>38.4</td>\n",
       "      <td>-1.8</td>\n",
       "      <td>0.0</td>\n",
       "      <td>0.6</td>\n",
       "    </tr>\n",
       "  </tbody>\n",
       "</table>\n",
       "</div>"
      ],
      "text/plain": [
       "            avgH   hdd      MWH    MWH.1  day_of_year  clim_avg  \\\n",
       "2011-01-04    52  33.0  73978.3  75228.5            3      30.2   \n",
       "2011-01-05    49  31.2  73338.9  74949.4            4      30.1   \n",
       "2011-01-06    49  38.4  74143.1  76520.0            5      29.9   \n",
       "2011-01-07    71  36.6  73205.6  76217.1            6      29.8   \n",
       "2011-01-08    85  34.8  67992.7  70957.2            7      29.6   \n",
       "\n",
       "            hdd_1_day_ago  hdd_2_days_ago  hdd_3_day_ago  hdd_tomorrow  \\\n",
       "2011-01-04           31.2            20.4           18.6          31.2   \n",
       "2011-01-05           33.0            31.2           20.4          38.4   \n",
       "2011-01-06           31.2            33.0           31.2          36.6   \n",
       "2011-01-07           38.4            31.2           33.0          34.8   \n",
       "2011-01-08           36.6            38.4           31.2          34.8   \n",
       "\n",
       "            hdd_in_2_days  hdd_in_3_days  delta_t_since_yesterday  \\\n",
       "2011-01-04           38.4           36.6                      1.8   \n",
       "2011-01-05           36.6           34.8                     -1.8   \n",
       "2011-01-06           34.8           34.8                      7.2   \n",
       "2011-01-07           34.8           36.6                     -1.8   \n",
       "2011-01-08           36.6           38.4                     -1.8   \n",
       "\n",
       "            delta_t_tomorrow  climate_deviation  \n",
       "2011-01-04              -1.8                1.8  \n",
       "2011-01-05               7.2                3.7  \n",
       "2011-01-06              -1.8               -3.3  \n",
       "2011-01-07              -1.8               -1.4  \n",
       "2011-01-08               0.0                0.6  "
      ]
     },
     "execution_count": 53,
     "metadata": {},
     "output_type": "execute_result"
    }
   ],
   "source": []
  },
  {
   "cell_type": "code",
   "execution_count": 93,
   "metadata": {
    "collapsed": false
   },
   "outputs": [],
   "source": [
    "daytrain = day_elec.iloc[:1400]\n",
    "daytest = day_elec.iloc[1400:]"
   ]
  },
  {
   "cell_type": "code",
   "execution_count": 231,
   "metadata": {
    "collapsed": true
   },
   "outputs": [],
   "source": [
    "dv2 = list(day_elec.columns)\n",
    "dv2.remove('MWH')\n",
    "dv2.remove('MWH.1')\n",
    "unos = list(itertools.combinations(dv2, 1))\n",
    "duos = list(itertools.combinations(dv2, 2))\n",
    "trios = list(itertools.combinations(dv2, 3))\n",
    "quadros = list(itertools.combinations(dv2, 4))\n",
    "quintos = list(itertools.combinations(dv2, 5))\n",
    "sixtos = list(itertools.combinations(dv2, 6))"
   ]
  },
  {
   "cell_type": "code",
   "execution_count": 234,
   "metadata": {
    "collapsed": false
   },
   "outputs": [
    {
     "name": "stdout",
     "output_type": "stream",
     "text": [
      "\n",
      "3478.9616535\n",
      "(('avgH', 'hdd', 'clim_avg', 'hdd_1_day_ago', 'delta_t_since_yesterday', 'climate_deviation'), 3822.2490965778043)\n"
     ]
    }
   ],
   "source": [
    "choices = []\n",
    "\n",
    "def regression_for(combo):\n",
    "    combo = list(combo)\n",
    "    df = day_elec.loc[:, combo + ['MWH.1']]\n",
    "    df.dropna(inplace=True)\n",
    "    input_data = df[combo]\n",
    "#    print(input_data.head(), input_data.shape, type(input_data))\n",
    "    demand = df['MWH.1']\n",
    "#    print(\"\")\n",
    "#    print(demand.head(), demand.shape, type(demand))\n",
    "    X_train, X_test, y_train, y_test = train_test_split(input_data, demand, random_state=1)\n",
    "    regra = Pipeline([('poly', PolynomialFeatures(degree=4)),\n",
    "                  ('linear', LinearRegression(fit_intercept=False))])\n",
    "    regra.fit(X_train, y_train)\n",
    "#    if regra.score(X_train, y_train) > 0.7:\n",
    "    y_pred = regra.predict(X_test)\n",
    "    rmse = np.sqrt(metrics.mean_squared_error(y_test, y_pred))\n",
    "#    print(\"Hello\", combo, np.sqrt(metrics.mean_squared_error(y_test, y_pred)))\n",
    "    return regra, rmse\n",
    "\n",
    "        \n",
    "for combo in sixtos:\n",
    "    regra, score = regression_for(combo)\n",
    "    choices.append((combo, score))\n",
    "                   \n",
    "best = sorted(choices, key=lambda x: x[1])[0]\n",
    "print(\"\")\n",
    "print(np.sqrt(metrics.mean_squared_error(day_elec[\"MWH\"], day_elec[\"MWH.1\"])))\n",
    "print(best)\n",
    "#regra, score = regression_for(best[0])\n",
    "#print(choices)"
   ]
  },
  {
   "cell_type": "markdown",
   "metadata": {},
   "source": [
    "## Results:\n",
    "\n",
    "#### Root Mean Squared Error, Day-Ahead vs Real-Time: \n",
    "3478.96\n",
    "\n",
    "#### Root Mean Squared Error, Best Uno: \n",
    "4345.95 (hdd), 6 degree poly\n",
    "\n",
    "#### Root Mean Squared Error, Best Duo: \n",
    "4010.29 (hdd_1_day_ago, delta_t_since_yesterday), 3 degree poly\n",
    "\n",
    "#### Root Mean Squared Error, Best Trio: \n",
    "3760.529 (avgH, hdd, delta_t_since_yesterday'), 3 degree poly\n",
    "\n",
    "#### Root Mean Squared Error, Best Quadro: \n",
    "3713.317 (avgH, clim_avg, hdd_1_day_ago, climate_deviation), 3 degree poly\n",
    "\n",
    "#### Root Mean Squared Error, Best Quinto: \n",
    "(('avgH', 'hdd', 'day_of_year', 'clim_avg', 'delta_t_since_yesterday'), 3684.2998746559942),  3 degree poly\n"
   ]
  },
  {
   "cell_type": "code",
   "execution_count": 69,
   "metadata": {
    "collapsed": false
   },
   "outputs": [],
   "source": [
    "test_MWH = arrayed_data(daytest[\"MWH.1\"])"
   ]
  },
  {
   "cell_type": "code",
   "execution_count": 82,
   "metadata": {
    "collapsed": false
   },
   "outputs": [
    {
     "name": "stdout",
     "output_type": "stream",
     "text": [
      "(1500, 15) (295, 15) (295,)\n"
     ]
    }
   ],
   "source": [
    "print(daytrain.shape, daytest.shape, test_MWH.shape)"
   ]
  },
  {
   "cell_type": "code",
   "execution_count": 92,
   "metadata": {
    "collapsed": false
   },
   "outputs": [
    {
     "data": {
      "text/plain": [
       "2015-02-12    79528.8\n",
       "2015-02-13    81212.6\n",
       "2015-02-14    77787.4\n",
       "2015-02-15    76332.7\n",
       "2015-02-16    83806.0\n",
       "2015-02-17    82094.1\n",
       "2015-02-18    78046.7\n",
       "2015-02-19    77676.0\n",
       "2015-02-20    82666.1\n",
       "2015-02-21    76803.5\n",
       "2015-02-22    69258.2\n",
       "2015-02-23    78054.3\n",
       "2015-02-24    83591.4\n",
       "2015-02-25    78247.7\n",
       "2015-02-26    79735.2\n",
       "2015-02-27    77966.5\n",
       "2015-02-28    73672.3\n",
       "2015-03-01    73220.5\n",
       "2015-03-02    75439.3\n",
       "2015-03-03    76213.2\n",
       "2015-03-04    72650.0\n",
       "2015-03-05    75010.1\n",
       "2015-03-06    77323.0\n",
       "2015-03-07    69780.3\n",
       "2015-03-08    64179.6\n",
       "2015-03-09    70384.8\n",
       "2015-03-10    68841.9\n",
       "2015-03-11    65839.6\n",
       "2015-03-12    68149.9\n",
       "2015-03-13    70120.7\n",
       "               ...   \n",
       "2015-11-04    62194.2\n",
       "2015-11-05    64208.1\n",
       "2015-11-06    65314.5\n",
       "2015-11-07    56459.7\n",
       "2015-11-08    55501.3\n",
       "2015-11-09    62917.5\n",
       "2015-11-10    63652.2\n",
       "2015-11-11    63643.9\n",
       "2015-11-12    64418.8\n",
       "2015-11-13    62094.4\n",
       "2015-11-14    59080.1\n",
       "2015-11-15    58805.6\n",
       "2015-11-16    63587.4\n",
       "2015-11-17    65136.4\n",
       "2015-11-18    66161.9\n",
       "2015-11-19    65157.9\n",
       "2015-11-20    63019.3\n",
       "2015-11-21    59386.7\n",
       "2015-11-22    60595.7\n",
       "2015-11-23    67011.1\n",
       "2015-11-24    68582.4\n",
       "2015-11-25    66972.6\n",
       "2015-11-26    57790.4\n",
       "2015-11-27    58423.9\n",
       "2015-11-28    58332.4\n",
       "2015-11-29    60499.4\n",
       "2015-11-30    69584.6\n",
       "2015-12-01    70125.8\n",
       "2015-12-02    68263.0\n",
       "2015-12-03    66652.7\n",
       "Name: MWH.1, dtype: float64"
      ]
     },
     "execution_count": 92,
     "metadata": {},
     "output_type": "execute_result"
    }
   ],
   "source": [
    "testdf = daytest\n",
    "testdf['MWH.1']"
   ]
  },
  {
   "cell_type": "code",
   "execution_count": 210,
   "metadata": {
    "collapsed": false
   },
   "outputs": [],
   "source": [
    "def regression_for(combo):\n",
    "    combo = list(combo)\n",
    "    df = day_elec.loc[:, combo + ['MWH.1']]\n",
    "    df.dropna(inplace=True)\n",
    "    input_data = df[combo]\n",
    "#    print(input_data.head(), input_data.shape, type(input_data))\n",
    "    demand = df['MWH.1']\n",
    "#    print(\"\")\n",
    "#    print(demand.head(), demand.shape, type(demand))\n",
    "    X_train, X_test, y_train, y_test = train_test_split(input_data, demand, random_state=1)\n",
    "    regra = Pipeline([('poly', PolynomialFeatures(degree=3)),\n",
    "                  ('linear', LinearRegression(fit_intercept=False))])\n",
    "    regra.fit(X_train, y_train)\n",
    "#    if regra.score(X_train, y_train) > 0.7:\n",
    "    y_pred = regra.predict(X_test)\n",
    "    rmse = np.sqrt(metrics.mean_squared_error(y_test, y_pred))\n",
    "#    print(\"Hello\", combo, np.sqrt(metrics.mean_squared_error(y_test, y_pred)))\n",
    "    output = y_test.to_frame()\n",
    "    output[\"y_pred\"] = y_pred\n",
    "    return output\n",
    "\n",
    "        \n",
    "testcomp = regression_for(('avgH', 'hdd', 'day_of_year', 'clim_avg', 'delta_t_since_yesterday'))"
   ]
  },
  {
   "cell_type": "code",
   "execution_count": 211,
   "metadata": {
    "collapsed": false
   },
   "outputs": [
    {
     "data": {
      "text/html": [
       "<div>\n",
       "<table border=\"1\" class=\"dataframe\">\n",
       "  <thead>\n",
       "    <tr style=\"text-align: right;\">\n",
       "      <th></th>\n",
       "      <th>MWH.1</th>\n",
       "      <th>y_pred</th>\n",
       "    </tr>\n",
       "  </thead>\n",
       "  <tbody>\n",
       "    <tr>\n",
       "      <th>2015-12-01</th>\n",
       "      <td>70125.8</td>\n",
       "      <td>69365.262557</td>\n",
       "    </tr>\n",
       "    <tr>\n",
       "      <th>2011-10-24</th>\n",
       "      <td>66117.0</td>\n",
       "      <td>62089.490692</td>\n",
       "    </tr>\n",
       "    <tr>\n",
       "      <th>2014-11-05</th>\n",
       "      <td>64124.5</td>\n",
       "      <td>62639.051754</td>\n",
       "    </tr>\n",
       "    <tr>\n",
       "      <th>2015-01-15</th>\n",
       "      <td>77767.3</td>\n",
       "      <td>76400.827546</td>\n",
       "    </tr>\n",
       "    <tr>\n",
       "      <th>2012-04-29</th>\n",
       "      <td>56174.5</td>\n",
       "      <td>61508.109932</td>\n",
       "    </tr>\n",
       "    <tr>\n",
       "      <th>2013-04-11</th>\n",
       "      <td>64113.4</td>\n",
       "      <td>62628.230456</td>\n",
       "    </tr>\n",
       "    <tr>\n",
       "      <th>2014-02-25</th>\n",
       "      <td>76381.4</td>\n",
       "      <td>73489.158618</td>\n",
       "    </tr>\n",
       "    <tr>\n",
       "      <th>2013-10-26</th>\n",
       "      <td>60064.5</td>\n",
       "      <td>63139.828809</td>\n",
       "    </tr>\n",
       "    <tr>\n",
       "      <th>2014-08-13</th>\n",
       "      <td>74634.7</td>\n",
       "      <td>72843.365459</td>\n",
       "    </tr>\n",
       "    <tr>\n",
       "      <th>2011-06-30</th>\n",
       "      <td>77609.2</td>\n",
       "      <td>76630.516523</td>\n",
       "    </tr>\n",
       "    <tr>\n",
       "      <th>2012-11-03</th>\n",
       "      <td>59331.7</td>\n",
       "      <td>62708.916643</td>\n",
       "    </tr>\n",
       "    <tr>\n",
       "      <th>2013-07-16</th>\n",
       "      <td>102192.7</td>\n",
       "      <td>98930.713084</td>\n",
       "    </tr>\n",
       "    <tr>\n",
       "      <th>2013-10-29</th>\n",
       "      <td>66582.1</td>\n",
       "      <td>62484.957614</td>\n",
       "    </tr>\n",
       "    <tr>\n",
       "      <th>2014-09-06</th>\n",
       "      <td>88586.0</td>\n",
       "      <td>89226.996814</td>\n",
       "    </tr>\n",
       "    <tr>\n",
       "      <th>2012-07-15</th>\n",
       "      <td>87624.5</td>\n",
       "      <td>94932.060533</td>\n",
       "    </tr>\n",
       "    <tr>\n",
       "      <th>2012-04-12</th>\n",
       "      <td>64818.8</td>\n",
       "      <td>62092.617820</td>\n",
       "    </tr>\n",
       "    <tr>\n",
       "      <th>2013-02-14</th>\n",
       "      <td>70461.0</td>\n",
       "      <td>70127.309791</td>\n",
       "    </tr>\n",
       "    <tr>\n",
       "      <th>2012-10-01</th>\n",
       "      <td>65123.4</td>\n",
       "      <td>61991.254707</td>\n",
       "    </tr>\n",
       "    <tr>\n",
       "      <th>2012-01-25</th>\n",
       "      <td>70612.2</td>\n",
       "      <td>69344.643366</td>\n",
       "    </tr>\n",
       "    <tr>\n",
       "      <th>2012-08-25</th>\n",
       "      <td>74076.2</td>\n",
       "      <td>76876.829663</td>\n",
       "    </tr>\n",
       "    <tr>\n",
       "      <th>2011-09-29</th>\n",
       "      <td>73889.8</td>\n",
       "      <td>69206.406672</td>\n",
       "    </tr>\n",
       "    <tr>\n",
       "      <th>2015-05-25</th>\n",
       "      <td>61182.6</td>\n",
       "      <td>67669.315361</td>\n",
       "    </tr>\n",
       "    <tr>\n",
       "      <th>2012-09-18</th>\n",
       "      <td>71278.0</td>\n",
       "      <td>67532.086344</td>\n",
       "    </tr>\n",
       "    <tr>\n",
       "      <th>2011-02-20</th>\n",
       "      <td>69418.8</td>\n",
       "      <td>73956.605161</td>\n",
       "    </tr>\n",
       "    <tr>\n",
       "      <th>2013-01-15</th>\n",
       "      <td>69284.9</td>\n",
       "      <td>69370.387843</td>\n",
       "    </tr>\n",
       "    <tr>\n",
       "      <th>2013-11-01</th>\n",
       "      <td>65935.5</td>\n",
       "      <td>64774.670699</td>\n",
       "    </tr>\n",
       "    <tr>\n",
       "      <th>2015-08-25</th>\n",
       "      <td>84168.9</td>\n",
       "      <td>79060.665660</td>\n",
       "    </tr>\n",
       "    <tr>\n",
       "      <th>2011-11-30</th>\n",
       "      <td>66684.2</td>\n",
       "      <td>63862.349346</td>\n",
       "    </tr>\n",
       "    <tr>\n",
       "      <th>2014-10-22</th>\n",
       "      <td>64070.0</td>\n",
       "      <td>63560.495040</td>\n",
       "    </tr>\n",
       "    <tr>\n",
       "      <th>2013-09-26</th>\n",
       "      <td>64225.1</td>\n",
       "      <td>61208.280417</td>\n",
       "    </tr>\n",
       "    <tr>\n",
       "      <th>...</th>\n",
       "      <td>...</td>\n",
       "      <td>...</td>\n",
       "    </tr>\n",
       "    <tr>\n",
       "      <th>2015-01-05</th>\n",
       "      <td>72374.5</td>\n",
       "      <td>71716.800371</td>\n",
       "    </tr>\n",
       "    <tr>\n",
       "      <th>2013-06-09</th>\n",
       "      <td>62578.1</td>\n",
       "      <td>70775.699881</td>\n",
       "    </tr>\n",
       "    <tr>\n",
       "      <th>2013-03-18</th>\n",
       "      <td>72692.7</td>\n",
       "      <td>72400.688936</td>\n",
       "    </tr>\n",
       "    <tr>\n",
       "      <th>2014-06-19</th>\n",
       "      <td>79852.7</td>\n",
       "      <td>75861.353352</td>\n",
       "    </tr>\n",
       "    <tr>\n",
       "      <th>2015-07-27</th>\n",
       "      <td>83459.2</td>\n",
       "      <td>83382.794431</td>\n",
       "    </tr>\n",
       "    <tr>\n",
       "      <th>2014-02-24</th>\n",
       "      <td>71861.7</td>\n",
       "      <td>68916.949927</td>\n",
       "    </tr>\n",
       "    <tr>\n",
       "      <th>2014-02-12</th>\n",
       "      <td>80713.8</td>\n",
       "      <td>80023.578630</td>\n",
       "    </tr>\n",
       "    <tr>\n",
       "      <th>2015-09-11</th>\n",
       "      <td>71276.1</td>\n",
       "      <td>72594.627271</td>\n",
       "    </tr>\n",
       "    <tr>\n",
       "      <th>2011-08-20</th>\n",
       "      <td>79483.0</td>\n",
       "      <td>90904.109273</td>\n",
       "    </tr>\n",
       "    <tr>\n",
       "      <th>2012-12-11</th>\n",
       "      <td>68743.6</td>\n",
       "      <td>66406.118103</td>\n",
       "    </tr>\n",
       "    <tr>\n",
       "      <th>2013-04-08</th>\n",
       "      <td>64202.3</td>\n",
       "      <td>63255.834535</td>\n",
       "    </tr>\n",
       "    <tr>\n",
       "      <th>2015-01-14</th>\n",
       "      <td>81255.1</td>\n",
       "      <td>78022.303140</td>\n",
       "    </tr>\n",
       "    <tr>\n",
       "      <th>2015-05-24</th>\n",
       "      <td>54619.2</td>\n",
       "      <td>62298.175691</td>\n",
       "    </tr>\n",
       "    <tr>\n",
       "      <th>2013-07-04</th>\n",
       "      <td>91333.5</td>\n",
       "      <td>96570.782912</td>\n",
       "    </tr>\n",
       "    <tr>\n",
       "      <th>2011-10-17</th>\n",
       "      <td>65642.8</td>\n",
       "      <td>63004.133463</td>\n",
       "    </tr>\n",
       "    <tr>\n",
       "      <th>2013-12-04</th>\n",
       "      <td>71106.7</td>\n",
       "      <td>66805.527055</td>\n",
       "    </tr>\n",
       "    <tr>\n",
       "      <th>2015-10-27</th>\n",
       "      <td>64132.7</td>\n",
       "      <td>62459.026348</td>\n",
       "    </tr>\n",
       "    <tr>\n",
       "      <th>2014-01-02</th>\n",
       "      <td>82134.2</td>\n",
       "      <td>77791.093880</td>\n",
       "    </tr>\n",
       "    <tr>\n",
       "      <th>2015-07-07</th>\n",
       "      <td>86103.1</td>\n",
       "      <td>82955.089288</td>\n",
       "    </tr>\n",
       "    <tr>\n",
       "      <th>2012-06-22</th>\n",
       "      <td>101779.8</td>\n",
       "      <td>98414.801701</td>\n",
       "    </tr>\n",
       "    <tr>\n",
       "      <th>2013-02-16</th>\n",
       "      <td>65960.4</td>\n",
       "      <td>70798.296255</td>\n",
       "    </tr>\n",
       "    <tr>\n",
       "      <th>2011-05-19</th>\n",
       "      <td>65312.0</td>\n",
       "      <td>62585.455776</td>\n",
       "    </tr>\n",
       "    <tr>\n",
       "      <th>2012-11-17</th>\n",
       "      <td>63064.2</td>\n",
       "      <td>65214.867673</td>\n",
       "    </tr>\n",
       "    <tr>\n",
       "      <th>2013-12-13</th>\n",
       "      <td>79207.4</td>\n",
       "      <td>77642.619947</td>\n",
       "    </tr>\n",
       "    <tr>\n",
       "      <th>2015-01-16</th>\n",
       "      <td>76489.4</td>\n",
       "      <td>74933.425966</td>\n",
       "    </tr>\n",
       "    <tr>\n",
       "      <th>2011-08-03</th>\n",
       "      <td>78739.4</td>\n",
       "      <td>76974.512644</td>\n",
       "    </tr>\n",
       "    <tr>\n",
       "      <th>2013-11-14</th>\n",
       "      <td>69774.8</td>\n",
       "      <td>67635.735126</td>\n",
       "    </tr>\n",
       "    <tr>\n",
       "      <th>2014-07-28</th>\n",
       "      <td>84538.2</td>\n",
       "      <td>82646.096260</td>\n",
       "    </tr>\n",
       "    <tr>\n",
       "      <th>2013-01-30</th>\n",
       "      <td>71660.9</td>\n",
       "      <td>69784.315638</td>\n",
       "    </tr>\n",
       "    <tr>\n",
       "      <th>2011-04-02</th>\n",
       "      <td>62816.2</td>\n",
       "      <td>64268.118334</td>\n",
       "    </tr>\n",
       "  </tbody>\n",
       "</table>\n",
       "<p>449 rows × 2 columns</p>\n",
       "</div>"
      ],
      "text/plain": [
       "               MWH.1        y_pred\n",
       "2015-12-01   70125.8  69365.262557\n",
       "2011-10-24   66117.0  62089.490692\n",
       "2014-11-05   64124.5  62639.051754\n",
       "2015-01-15   77767.3  76400.827546\n",
       "2012-04-29   56174.5  61508.109932\n",
       "2013-04-11   64113.4  62628.230456\n",
       "2014-02-25   76381.4  73489.158618\n",
       "2013-10-26   60064.5  63139.828809\n",
       "2014-08-13   74634.7  72843.365459\n",
       "2011-06-30   77609.2  76630.516523\n",
       "2012-11-03   59331.7  62708.916643\n",
       "2013-07-16  102192.7  98930.713084\n",
       "2013-10-29   66582.1  62484.957614\n",
       "2014-09-06   88586.0  89226.996814\n",
       "2012-07-15   87624.5  94932.060533\n",
       "2012-04-12   64818.8  62092.617820\n",
       "2013-02-14   70461.0  70127.309791\n",
       "2012-10-01   65123.4  61991.254707\n",
       "2012-01-25   70612.2  69344.643366\n",
       "2012-08-25   74076.2  76876.829663\n",
       "2011-09-29   73889.8  69206.406672\n",
       "2015-05-25   61182.6  67669.315361\n",
       "2012-09-18   71278.0  67532.086344\n",
       "2011-02-20   69418.8  73956.605161\n",
       "2013-01-15   69284.9  69370.387843\n",
       "2013-11-01   65935.5  64774.670699\n",
       "2015-08-25   84168.9  79060.665660\n",
       "2011-11-30   66684.2  63862.349346\n",
       "2014-10-22   64070.0  63560.495040\n",
       "2013-09-26   64225.1  61208.280417\n",
       "...              ...           ...\n",
       "2015-01-05   72374.5  71716.800371\n",
       "2013-06-09   62578.1  70775.699881\n",
       "2013-03-18   72692.7  72400.688936\n",
       "2014-06-19   79852.7  75861.353352\n",
       "2015-07-27   83459.2  83382.794431\n",
       "2014-02-24   71861.7  68916.949927\n",
       "2014-02-12   80713.8  80023.578630\n",
       "2015-09-11   71276.1  72594.627271\n",
       "2011-08-20   79483.0  90904.109273\n",
       "2012-12-11   68743.6  66406.118103\n",
       "2013-04-08   64202.3  63255.834535\n",
       "2015-01-14   81255.1  78022.303140\n",
       "2015-05-24   54619.2  62298.175691\n",
       "2013-07-04   91333.5  96570.782912\n",
       "2011-10-17   65642.8  63004.133463\n",
       "2013-12-04   71106.7  66805.527055\n",
       "2015-10-27   64132.7  62459.026348\n",
       "2014-01-02   82134.2  77791.093880\n",
       "2015-07-07   86103.1  82955.089288\n",
       "2012-06-22  101779.8  98414.801701\n",
       "2013-02-16   65960.4  70798.296255\n",
       "2011-05-19   65312.0  62585.455776\n",
       "2012-11-17   63064.2  65214.867673\n",
       "2013-12-13   79207.4  77642.619947\n",
       "2015-01-16   76489.4  74933.425966\n",
       "2011-08-03   78739.4  76974.512644\n",
       "2013-11-14   69774.8  67635.735126\n",
       "2014-07-28   84538.2  82646.096260\n",
       "2013-01-30   71660.9  69784.315638\n",
       "2011-04-02   62816.2  64268.118334\n",
       "\n",
       "[449 rows x 2 columns]"
      ]
     },
     "execution_count": 211,
     "metadata": {},
     "output_type": "execute_result"
    }
   ],
   "source": [
    "testcomp"
   ]
  },
  {
   "cell_type": "code",
   "execution_count": 213,
   "metadata": {
    "collapsed": false
   },
   "outputs": [],
   "source": [
    "comparing = testcomp.join(day_elec.MWH, how=\"inner\")"
   ]
  },
  {
   "cell_type": "code",
   "execution_count": 215,
   "metadata": {
    "collapsed": false
   },
   "outputs": [
    {
     "data": {
      "text/html": [
       "<div>\n",
       "<table border=\"1\" class=\"dataframe\">\n",
       "  <thead>\n",
       "    <tr style=\"text-align: right;\">\n",
       "      <th></th>\n",
       "      <th>MWH.1</th>\n",
       "      <th>y_pred</th>\n",
       "      <th>MWH</th>\n",
       "    </tr>\n",
       "  </thead>\n",
       "  <tbody>\n",
       "    <tr>\n",
       "      <th>2011-01-04</th>\n",
       "      <td>75228.5</td>\n",
       "      <td>72846.799081</td>\n",
       "      <td>73978.3</td>\n",
       "    </tr>\n",
       "    <tr>\n",
       "      <th>2011-01-07</th>\n",
       "      <td>76217.1</td>\n",
       "      <td>74974.157916</td>\n",
       "      <td>73205.6</td>\n",
       "    </tr>\n",
       "    <tr>\n",
       "      <th>2011-01-12</th>\n",
       "      <td>75023.5</td>\n",
       "      <td>73828.272709</td>\n",
       "      <td>75360.1</td>\n",
       "    </tr>\n",
       "    <tr>\n",
       "      <th>2011-01-23</th>\n",
       "      <td>76563.5</td>\n",
       "      <td>79519.767193</td>\n",
       "      <td>70148.0</td>\n",
       "    </tr>\n",
       "    <tr>\n",
       "      <th>2011-01-26</th>\n",
       "      <td>82056.6</td>\n",
       "      <td>78248.268269</td>\n",
       "      <td>74457.1</td>\n",
       "    </tr>\n",
       "  </tbody>\n",
       "</table>\n",
       "</div>"
      ],
      "text/plain": [
       "              MWH.1        y_pred      MWH\n",
       "2011-01-04  75228.5  72846.799081  73978.3\n",
       "2011-01-07  76217.1  74974.157916  73205.6\n",
       "2011-01-12  75023.5  73828.272709  75360.1\n",
       "2011-01-23  76563.5  79519.767193  70148.0\n",
       "2011-01-26  82056.6  78248.268269  74457.1"
      ]
     },
     "execution_count": 215,
     "metadata": {},
     "output_type": "execute_result"
    }
   ],
   "source": [
    "comparing.head()"
   ]
  },
  {
   "cell_type": "code",
   "execution_count": 216,
   "metadata": {
    "collapsed": false
   },
   "outputs": [
    {
     "name": "stdout",
     "output_type": "stream",
     "text": [
      "Day-Ahead Variance Score: 0.9152\n"
     ]
    }
   ],
   "source": [
    "lr1 = LinearRegression()\n",
    "lr1.fit(comparing.MWH.to_frame(), comparing[\"MWH.1\"])\n",
    "print('Day-Ahead Variance Score: %.4f' % lr1.score(comparing.MWH.to_frame(), comparing[\"MWH.1\"]))\n"
   ]
  },
  {
   "cell_type": "code",
   "execution_count": 218,
   "metadata": {
    "collapsed": false
   },
   "outputs": [
    {
     "name": "stdout",
     "output_type": "stream",
     "text": [
      "Predicted Variance Score: 0.8226\n"
     ]
    }
   ],
   "source": [
    "lr2 = LinearRegression()\n",
    "lr2.fit(comparing.y_pred.to_frame(), comparing[\"MWH.1\"])\n",
    "print('Predicted Variance Score: %.4f' % lr2.score(comparing.y_pred.to_frame(), comparing[\"MWH.1\"]))"
   ]
  },
  {
   "cell_type": "code",
   "execution_count": 229,
   "metadata": {
    "collapsed": false,
    "scrolled": true
   },
   "outputs": [
    {
     "ename": "TypeError",
     "evalue": "'numpy.ndarray' object is not callable",
     "output_type": "error",
     "traceback": [
      "\u001b[0;31m---------------------------------------------------------------------------\u001b[0m",
      "\u001b[0;31mTypeError\u001b[0m                                 Traceback (most recent call last)",
      "\u001b[0;32m<ipython-input-229-af3e4e30c2a2>\u001b[0m in \u001b[0;36m<module>\u001b[0;34m()\u001b[0m\n\u001b[1;32m      1\u001b[0m \u001b[0mplt\u001b[0m\u001b[0;34m.\u001b[0m\u001b[0mfigure\u001b[0m\u001b[0;34m(\u001b[0m\u001b[0mfigsize\u001b[0m\u001b[0;34m=\u001b[0m\u001b[0;34m(\u001b[0m\u001b[0;36m20\u001b[0m\u001b[0;34m,\u001b[0m \u001b[0;36m10\u001b[0m\u001b[0;34m)\u001b[0m\u001b[0;34m)\u001b[0m\u001b[0;34m\u001b[0m\u001b[0m\n\u001b[0;32m----> 2\u001b[0;31m \u001b[0mplt\u001b[0m\u001b[0;34m.\u001b[0m\u001b[0mplot\u001b[0m\u001b[0;34m(\u001b[0m\u001b[0mcomparing\u001b[0m\u001b[0;34m.\u001b[0m\u001b[0mcolumns\u001b[0m\u001b[0;34m.\u001b[0m\u001b[0mvalues\u001b[0m\u001b[0;34m(\u001b[0m\u001b[0;34m[\u001b[0m\u001b[0;36m1\u001b[0m\u001b[0;34m]\u001b[0m\u001b[0;34m)\u001b[0m\u001b[0;34m.\u001b[0m\u001b[0miloc\u001b[0m\u001b[0;34m[\u001b[0m\u001b[0;36m1\u001b[0m\u001b[0;34m:\u001b[0m\u001b[0;34m]\u001b[0m\u001b[0;34m)\u001b[0m\u001b[0;34m\u001b[0m\u001b[0m\n\u001b[0m",
      "\u001b[0;31mTypeError\u001b[0m: 'numpy.ndarray' object is not callable"
     ]
    },
    {
     "data": {
      "text/plain": [
       "<matplotlib.figure.Figure at 0x10fdadb38>"
      ]
     },
     "metadata": {},
     "output_type": "display_data"
    }
   ],
   "source": []
  },
  {
   "cell_type": "code",
   "execution_count": null,
   "metadata": {
    "collapsed": true
   },
   "outputs": [],
   "source": []
  }
 ],
 "metadata": {
  "kernelspec": {
   "display_name": "Python 3",
   "language": "python",
   "name": "python3"
  },
  "language_info": {
   "codemirror_mode": {
    "name": "ipython",
    "version": 3
   },
   "file_extension": ".py",
   "mimetype": "text/x-python",
   "name": "python",
   "nbconvert_exporter": "python",
   "pygments_lexer": "ipython3",
   "version": "3.5.0"
  }
 },
 "nbformat": 4,
 "nbformat_minor": 0
}
